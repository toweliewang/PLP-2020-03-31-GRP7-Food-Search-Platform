{
 "cells": [
  {
   "cell_type": "code",
   "execution_count": 1,
   "metadata": {},
   "outputs": [
    {
     "data": {
      "text/html": [
       "<style> table {float:left} </style>\n"
      ],
      "text/plain": [
       "<IPython.core.display.HTML object>"
      ]
     },
     "metadata": {},
     "output_type": "display_data"
    }
   ],
   "source": [
    "%%html\n",
    "<style> table {float:left} </style>"
   ]
  },
  {
   "cell_type": "code",
   "execution_count": 2,
   "metadata": {},
   "outputs": [],
   "source": [
    "import sqlite3\n",
    "import pandas as pd\n",
    "from nltk.corpus import stopwords\n",
    "from nltk.tokenize import RegexpTokenizer\n",
    "from datetime import datetime\n",
    "import numpy as np\n",
    "from sklearn.ensemble import RandomForestClassifier\n",
    "from sklearn.feature_extraction.text import TfidfVectorizer\n",
    "from sklearn.model_selection import train_test_split\n",
    "from time import time\n",
    "from sklearn.naive_bayes import GaussianNB\n",
    "from sklearn.metrics import accuracy_score, recall_score, precision_score, f1_score, pairwise_distances\n",
    "from sklearn.metrics import confusion_matrix\n",
    "from collections import OrderedDict\n",
    "from sklearn.model_selection import GridSearchCV\n",
    "import matplotlib.pyplot as plt\n",
    "import seaborn as sns\n",
    "from tqdm.notebook import tqdm\n",
    "\n",
    "pd.options.mode.chained_assignment = None"
   ]
  },
  {
   "cell_type": "markdown",
   "metadata": {},
   "source": [
    "### Load the data\n",
    "The labeled Dataset can only be used by research propose and we can not update it to the Github, if you want to run this code please email Liu Bing liub@uic.edu to get the access of dataset"
   ]
  },
  {
   "cell_type": "code",
   "execution_count": 3,
   "metadata": {},
   "outputs": [],
   "source": [
    "conn = sqlite3.connect(\"data/yelpResData.db\")\n",
    "conn.text_factory = lambda x: str(x, 'gb2312', 'ignore')\n",
    "cursor = conn.cursor()"
   ]
  },
  {
   "cell_type": "code",
   "execution_count": 4,
   "metadata": {},
   "outputs": [
    {
     "data": {
      "text/html": [
       "<div>\n",
       "<style scoped>\n",
       "    .dataframe tbody tr th:only-of-type {\n",
       "        vertical-align: middle;\n",
       "    }\n",
       "\n",
       "    .dataframe tbody tr th {\n",
       "        vertical-align: top;\n",
       "    }\n",
       "\n",
       "    .dataframe thead th {\n",
       "        text-align: right;\n",
       "    }\n",
       "</style>\n",
       "<table border=\"1\" class=\"dataframe\">\n",
       "  <thead>\n",
       "    <tr style=\"text-align: right;\">\n",
       "      <th></th>\n",
       "      <th>reviewID</th>\n",
       "      <th>reviewerID</th>\n",
       "      <th>restaurantID</th>\n",
       "      <th>date</th>\n",
       "      <th>rating</th>\n",
       "      <th>reviewUsefulCount</th>\n",
       "      <th>reviewContent</th>\n",
       "      <th>flagged</th>\n",
       "    </tr>\n",
       "  </thead>\n",
       "  <tbody>\n",
       "    <tr>\n",
       "      <th>0</th>\n",
       "      <td>GtwU21YOQn-wf4vWRUIx6w</td>\n",
       "      <td>bNYesZ944s6IJVowOnB0iA</td>\n",
       "      <td>pbEiXam9YJL3neCYHGwLUA</td>\n",
       "      <td>9/22/2012</td>\n",
       "      <td>5</td>\n",
       "      <td>0</td>\n",
       "      <td>Unlike Next, which we'd eaten at the previous ...</td>\n",
       "      <td>N</td>\n",
       "    </tr>\n",
       "    <tr>\n",
       "      <th>1</th>\n",
       "      <td>0LpVTc3</td>\n",
       "      <td>TRKxLC3y-ZvP45e5iilMtw</td>\n",
       "      <td>pbEiXam9YJL3neCYHGwLUA</td>\n",
       "      <td>9/22/2012</td>\n",
       "      <td>5</td>\n",
       "      <td>0</td>\n",
       "      <td>Probably one of the best meals I've had ever. ...</td>\n",
       "      <td>N</td>\n",
       "    </tr>\n",
       "    <tr>\n",
       "      <th>2</th>\n",
       "      <td>tljtLzf68Fkwf</td>\n",
       "      <td>0EMm8umAqXZzyhxNpL4M9g</td>\n",
       "      <td>pbEiXam9YJL3neCYHGwLUA</td>\n",
       "      <td>9/19/2012</td>\n",
       "      <td>3</td>\n",
       "      <td>2</td>\n",
       "      <td>Service was impeccable. Experience and present...</td>\n",
       "      <td>N</td>\n",
       "    </tr>\n",
       "    <tr>\n",
       "      <th>3</th>\n",
       "      <td>iSN</td>\n",
       "      <td>DlwexC7z88ymAzu45skODw</td>\n",
       "      <td>pbEiXam9YJL3neCYHGwLUA</td>\n",
       "      <td>9/6/2012</td>\n",
       "      <td>3</td>\n",
       "      <td>8</td>\n",
       "      <td>The problem with places like this, given the e...</td>\n",
       "      <td>N</td>\n",
       "    </tr>\n",
       "    <tr>\n",
       "      <th>4</th>\n",
       "      <td>Jmwrh7</td>\n",
       "      <td>kW2dk1CWihmh3g7k9N2G8A</td>\n",
       "      <td>pbEiXam9YJL3neCYHGwLUA</td>\n",
       "      <td>9/9/2012</td>\n",
       "      <td>5</td>\n",
       "      <td>1</td>\n",
       "      <td>I have no idea how to write my review - dining...</td>\n",
       "      <td>N</td>\n",
       "    </tr>\n",
       "  </tbody>\n",
       "</table>\n",
       "</div>"
      ],
      "text/plain": [
       "                 reviewID              reviewerID            restaurantID  \\\n",
       "0  GtwU21YOQn-wf4vWRUIx6w  bNYesZ944s6IJVowOnB0iA  pbEiXam9YJL3neCYHGwLUA   \n",
       "1                 0LpVTc3  TRKxLC3y-ZvP45e5iilMtw  pbEiXam9YJL3neCYHGwLUA   \n",
       "2           tljtLzf68Fkwf  0EMm8umAqXZzyhxNpL4M9g  pbEiXam9YJL3neCYHGwLUA   \n",
       "3                     iSN  DlwexC7z88ymAzu45skODw  pbEiXam9YJL3neCYHGwLUA   \n",
       "4                  Jmwrh7  kW2dk1CWihmh3g7k9N2G8A  pbEiXam9YJL3neCYHGwLUA   \n",
       "\n",
       "        date  rating  reviewUsefulCount  \\\n",
       "0  9/22/2012       5                  0   \n",
       "1  9/22/2012       5                  0   \n",
       "2  9/19/2012       3                  2   \n",
       "3   9/6/2012       3                  8   \n",
       "4   9/9/2012       5                  1   \n",
       "\n",
       "                                       reviewContent flagged  \n",
       "0  Unlike Next, which we'd eaten at the previous ...       N  \n",
       "1  Probably one of the best meals I've had ever. ...       N  \n",
       "2  Service was impeccable. Experience and present...       N  \n",
       "3  The problem with places like this, given the e...       N  \n",
       "4  I have no idea how to write my review - dining...       N  "
      ]
     },
     "execution_count": 4,
     "metadata": {},
     "output_type": "execute_result"
    }
   ],
   "source": [
    "cursor.execute(\n",
    "        \"SELECT reviewID, reviewerID, restaurantID, date, rating, usefulCount as reviewUsefulCount, reviewContent, flagged FROM review WHERE flagged in ('Y','N')\")\n",
    "review_df = pd.DataFrame(cursor.fetchall(), columns=[column[0] for column in cursor.description])\n",
    "review_df.head()"
   ]
  },
  {
   "cell_type": "code",
   "execution_count": 5,
   "metadata": {},
   "outputs": [
    {
     "data": {
      "text/plain": [
       "reviewID\n",
       "                          1\n",
       "-                         1\n",
       "--4L2Rk6                  1\n",
       "--4Z9JKq2jc4PWxJiG4mrA    1\n",
       "--AweNX8vPGD              1\n",
       "                         ..\n",
       "zzkCzd5jRMUOi5nMUIh9qw    1\n",
       "zzmNeqmRBX19e             1\n",
       "zznvKLWkXULv6mVt3R07rA    1\n",
       "zzq8nU                    1\n",
       "zzr7OmGfjdxP2hy4tvqm2w    1\n",
       "Length: 67019, dtype: int64"
      ]
     },
     "execution_count": 5,
     "metadata": {},
     "output_type": "execute_result"
    }
   ],
   "source": [
    "review_df.groupby('reviewID').size()"
   ]
  },
  {
   "cell_type": "code",
   "execution_count": 6,
   "metadata": {},
   "outputs": [
    {
     "data": {
      "text/html": [
       "<div>\n",
       "<style scoped>\n",
       "    .dataframe tbody tr th:only-of-type {\n",
       "        vertical-align: middle;\n",
       "    }\n",
       "\n",
       "    .dataframe tbody tr th {\n",
       "        vertical-align: top;\n",
       "    }\n",
       "\n",
       "    .dataframe thead th {\n",
       "        text-align: right;\n",
       "    }\n",
       "</style>\n",
       "<table border=\"1\" class=\"dataframe\">\n",
       "  <thead>\n",
       "    <tr style=\"text-align: right;\">\n",
       "      <th></th>\n",
       "      <th>reviewerID</th>\n",
       "      <th>name</th>\n",
       "      <th>location</th>\n",
       "      <th>yelpJoinDate</th>\n",
       "      <th>friendCount</th>\n",
       "      <th>reviewCount</th>\n",
       "      <th>firstCount</th>\n",
       "      <th>usefulCount</th>\n",
       "      <th>coolCount</th>\n",
       "      <th>funnyCount</th>\n",
       "      <th>complimentCount</th>\n",
       "      <th>tipCount</th>\n",
       "      <th>fanCount</th>\n",
       "    </tr>\n",
       "  </thead>\n",
       "  <tbody>\n",
       "    <tr>\n",
       "      <th>0</th>\n",
       "      <td>bNYesZ944s6IJVowOnB0iA</td>\n",
       "      <td>Scott E.</td>\n",
       "      <td>Glengary, WV</td>\n",
       "      <td>October 2009</td>\n",
       "      <td>11</td>\n",
       "      <td>48</td>\n",
       "      <td>5</td>\n",
       "      <td>41</td>\n",
       "      <td>5</td>\n",
       "      <td>5</td>\n",
       "      <td>2</td>\n",
       "      <td>0</td>\n",
       "      <td>1</td>\n",
       "    </tr>\n",
       "    <tr>\n",
       "      <th>1</th>\n",
       "      <td>TRKxLC3y-ZvP45e5iilMtw</td>\n",
       "      <td>Jerry K.</td>\n",
       "      <td>Palos Verdes Peninsula, CA</td>\n",
       "      <td>June 2011</td>\n",
       "      <td>0</td>\n",
       "      <td>4</td>\n",
       "      <td>0</td>\n",
       "      <td>0</td>\n",
       "      <td>0</td>\n",
       "      <td>0</td>\n",
       "      <td>0</td>\n",
       "      <td>0</td>\n",
       "      <td>0</td>\n",
       "    </tr>\n",
       "    <tr>\n",
       "      <th>2</th>\n",
       "      <td>0EMm8umAqXZzyhxNpL4M9g</td>\n",
       "      <td>Patricia M.</td>\n",
       "      <td>Chicago, IL</td>\n",
       "      <td>September 2008</td>\n",
       "      <td>2</td>\n",
       "      <td>11</td>\n",
       "      <td>0</td>\n",
       "      <td>6</td>\n",
       "      <td>0</td>\n",
       "      <td>1</td>\n",
       "      <td>0</td>\n",
       "      <td>0</td>\n",
       "      <td>0</td>\n",
       "    </tr>\n",
       "    <tr>\n",
       "      <th>3</th>\n",
       "      <td>DlwexC7z88ymAzu45skODw</td>\n",
       "      <td>Terry N.</td>\n",
       "      <td>San Jose, CA</td>\n",
       "      <td>October 2007</td>\n",
       "      <td>84</td>\n",
       "      <td>60</td>\n",
       "      <td>1</td>\n",
       "      <td>35</td>\n",
       "      <td>8</td>\n",
       "      <td>6</td>\n",
       "      <td>6</td>\n",
       "      <td>11</td>\n",
       "      <td>0</td>\n",
       "    </tr>\n",
       "    <tr>\n",
       "      <th>4</th>\n",
       "      <td>kW2dk1CWihmh3g7k9N2G8A</td>\n",
       "      <td>Shradha Vegetarianista A.</td>\n",
       "      <td>Chicago, IL</td>\n",
       "      <td>July 2007</td>\n",
       "      <td>333</td>\n",
       "      <td>1209</td>\n",
       "      <td>61</td>\n",
       "      <td>1650</td>\n",
       "      <td>679</td>\n",
       "      <td>417</td>\n",
       "      <td>283</td>\n",
       "      <td>22</td>\n",
       "      <td>70</td>\n",
       "    </tr>\n",
       "  </tbody>\n",
       "</table>\n",
       "</div>"
      ],
      "text/plain": [
       "               reviewerID                       name  \\\n",
       "0  bNYesZ944s6IJVowOnB0iA                   Scott E.   \n",
       "1  TRKxLC3y-ZvP45e5iilMtw                   Jerry K.   \n",
       "2  0EMm8umAqXZzyhxNpL4M9g                Patricia M.   \n",
       "3  DlwexC7z88ymAzu45skODw                   Terry N.   \n",
       "4  kW2dk1CWihmh3g7k9N2G8A  Shradha Vegetarianista A.   \n",
       "\n",
       "                     location    yelpJoinDate  friendCount  reviewCount  \\\n",
       "0                Glengary, WV    October 2009           11           48   \n",
       "1  Palos Verdes Peninsula, CA       June 2011            0            4   \n",
       "2                 Chicago, IL  September 2008            2           11   \n",
       "3                San Jose, CA    October 2007           84           60   \n",
       "4                 Chicago, IL       July 2007          333         1209   \n",
       "\n",
       "   firstCount  usefulCount  coolCount  funnyCount  complimentCount  tipCount  \\\n",
       "0           5           41          5           5                2         0   \n",
       "1           0            0          0           0                0         0   \n",
       "2           0            6          0           1                0         0   \n",
       "3           1           35          8           6                6        11   \n",
       "4          61         1650        679         417              283        22   \n",
       "\n",
       "   fanCount  \n",
       "0         1  \n",
       "1         0  \n",
       "2         0  \n",
       "3         0  \n",
       "4        70  "
      ]
     },
     "execution_count": 6,
     "metadata": {},
     "output_type": "execute_result"
    }
   ],
   "source": [
    "cursor.execute(\"SELECT * FROM reviewer\")\n",
    "reviewer_df = pd.DataFrame(cursor.fetchall(), columns=[column[0] for column in cursor.description])\n",
    "reviewer_df.head()"
   ]
  },
  {
   "cell_type": "code",
   "execution_count": 7,
   "metadata": {},
   "outputs": [
    {
     "data": {
      "text/html": [
       "<div>\n",
       "<style scoped>\n",
       "    .dataframe tbody tr th:only-of-type {\n",
       "        vertical-align: middle;\n",
       "    }\n",
       "\n",
       "    .dataframe tbody tr th {\n",
       "        vertical-align: top;\n",
       "    }\n",
       "\n",
       "    .dataframe thead th {\n",
       "        text-align: right;\n",
       "    }\n",
       "</style>\n",
       "<table border=\"1\" class=\"dataframe\">\n",
       "  <thead>\n",
       "    <tr style=\"text-align: right;\">\n",
       "      <th></th>\n",
       "      <th>restaurantID</th>\n",
       "      <th>restaurantRating</th>\n",
       "    </tr>\n",
       "  </thead>\n",
       "  <tbody>\n",
       "    <tr>\n",
       "      <th>0</th>\n",
       "      <td>pbEiXam9YJL3neCYHGwLUA</td>\n",
       "      <td>4.5</td>\n",
       "    </tr>\n",
       "    <tr>\n",
       "      <th>1</th>\n",
       "      <td>HOJqzz1WvOmeR9oESJ4d9A</td>\n",
       "      <td>4.5</td>\n",
       "    </tr>\n",
       "    <tr>\n",
       "      <th>2</th>\n",
       "      <td>AkfSndWBxnTn-LpmiL8aLA</td>\n",
       "      <td>4.5</td>\n",
       "    </tr>\n",
       "    <tr>\n",
       "      <th>3</th>\n",
       "      <td>WBU0yq9J8qiYQfI_fh2P1Q</td>\n",
       "      <td>4.0</td>\n",
       "    </tr>\n",
       "    <tr>\n",
       "      <th>4</th>\n",
       "      <td>bNXpwTSavHBV9zBk2lUlGA</td>\n",
       "      <td>4.5</td>\n",
       "    </tr>\n",
       "  </tbody>\n",
       "</table>\n",
       "</div>"
      ],
      "text/plain": [
       "             restaurantID  restaurantRating\n",
       "0  pbEiXam9YJL3neCYHGwLUA               4.5\n",
       "1  HOJqzz1WvOmeR9oESJ4d9A               4.5\n",
       "2  AkfSndWBxnTn-LpmiL8aLA               4.5\n",
       "3  WBU0yq9J8qiYQfI_fh2P1Q               4.0\n",
       "4  bNXpwTSavHBV9zBk2lUlGA               4.5"
      ]
     },
     "execution_count": 7,
     "metadata": {},
     "output_type": "execute_result"
    }
   ],
   "source": [
    "cursor.execute(\"SELECT restaurantID, rating as restaurantRating FROM restaurant\")\n",
    "restaurant_df = pd.DataFrame(cursor.fetchall(), columns=[column[0] for column in cursor.description])\n",
    "restaurant_df.head()"
   ]
  },
  {
   "cell_type": "code",
   "execution_count": 8,
   "metadata": {},
   "outputs": [],
   "source": [
    "# Merge all DataFrames\n",
    "review_reviewer_df = review_df.merge(reviewer_df, on='reviewerID', how='inner')\n",
    "df = review_reviewer_df.merge(restaurant_df, on='restaurantID', how='inner')"
   ]
  },
  {
   "cell_type": "code",
   "execution_count": 9,
   "metadata": {},
   "outputs": [],
   "source": [
    "## Because in the Tripadvior data we can only get the review with \"Month-Year\", like \"Sep-12\"\n",
    "## we change the yelpdataset into same format"
   ]
  },
  {
   "cell_type": "code",
   "execution_count": 10,
   "metadata": {},
   "outputs": [],
   "source": [
    "for i in range(len(df['date'])):\n",
    "    if df['date'][i][0] == '\\n':\n",
    "        df['date'][i] = df['date'][i][1:]\n",
    "\n",
    "df['date'] = df['date'].apply(\n",
    "    lambda x: datetime.strftime(datetime.strptime(x, '%m/%d/%Y'), '%b-%y'))"
   ]
  },
  {
   "cell_type": "code",
   "execution_count": 11,
   "metadata": {},
   "outputs": [
    {
     "data": {
      "text/html": [
       "<div>\n",
       "<style scoped>\n",
       "    .dataframe tbody tr th:only-of-type {\n",
       "        vertical-align: middle;\n",
       "    }\n",
       "\n",
       "    .dataframe tbody tr th {\n",
       "        vertical-align: top;\n",
       "    }\n",
       "\n",
       "    .dataframe thead th {\n",
       "        text-align: right;\n",
       "    }\n",
       "</style>\n",
       "<table border=\"1\" class=\"dataframe\">\n",
       "  <thead>\n",
       "    <tr style=\"text-align: right;\">\n",
       "      <th></th>\n",
       "      <th>reviewID</th>\n",
       "      <th>reviewerID</th>\n",
       "      <th>restaurantID</th>\n",
       "      <th>date</th>\n",
       "      <th>rating</th>\n",
       "      <th>reviewUsefulCount</th>\n",
       "      <th>reviewContent</th>\n",
       "      <th>flagged</th>\n",
       "      <th>name</th>\n",
       "      <th>location</th>\n",
       "      <th>...</th>\n",
       "      <th>friendCount</th>\n",
       "      <th>reviewCount</th>\n",
       "      <th>firstCount</th>\n",
       "      <th>usefulCount</th>\n",
       "      <th>coolCount</th>\n",
       "      <th>funnyCount</th>\n",
       "      <th>complimentCount</th>\n",
       "      <th>tipCount</th>\n",
       "      <th>fanCount</th>\n",
       "      <th>restaurantRating</th>\n",
       "    </tr>\n",
       "  </thead>\n",
       "  <tbody>\n",
       "    <tr>\n",
       "      <th>0</th>\n",
       "      <td>GtwU21YOQn-wf4vWRUIx6w</td>\n",
       "      <td>bNYesZ944s6IJVowOnB0iA</td>\n",
       "      <td>pbEiXam9YJL3neCYHGwLUA</td>\n",
       "      <td>Sep-12</td>\n",
       "      <td>5</td>\n",
       "      <td>0</td>\n",
       "      <td>Unlike Next, which we'd eaten at the previous ...</td>\n",
       "      <td>N</td>\n",
       "      <td>Scott E.</td>\n",
       "      <td>Glengary, WV</td>\n",
       "      <td>...</td>\n",
       "      <td>11</td>\n",
       "      <td>48</td>\n",
       "      <td>5</td>\n",
       "      <td>41</td>\n",
       "      <td>5</td>\n",
       "      <td>5</td>\n",
       "      <td>2</td>\n",
       "      <td>0</td>\n",
       "      <td>1</td>\n",
       "      <td>4.5</td>\n",
       "    </tr>\n",
       "    <tr>\n",
       "      <th>1</th>\n",
       "      <td>0LpVTc3</td>\n",
       "      <td>TRKxLC3y-ZvP45e5iilMtw</td>\n",
       "      <td>pbEiXam9YJL3neCYHGwLUA</td>\n",
       "      <td>Sep-12</td>\n",
       "      <td>5</td>\n",
       "      <td>0</td>\n",
       "      <td>Probably one of the best meals I've had ever. ...</td>\n",
       "      <td>N</td>\n",
       "      <td>Jerry K.</td>\n",
       "      <td>Palos Verdes Peninsula, CA</td>\n",
       "      <td>...</td>\n",
       "      <td>0</td>\n",
       "      <td>4</td>\n",
       "      <td>0</td>\n",
       "      <td>0</td>\n",
       "      <td>0</td>\n",
       "      <td>0</td>\n",
       "      <td>0</td>\n",
       "      <td>0</td>\n",
       "      <td>0</td>\n",
       "      <td>4.5</td>\n",
       "    </tr>\n",
       "    <tr>\n",
       "      <th>2</th>\n",
       "      <td>tljtLzf68Fkwf</td>\n",
       "      <td>0EMm8umAqXZzyhxNpL4M9g</td>\n",
       "      <td>pbEiXam9YJL3neCYHGwLUA</td>\n",
       "      <td>Sep-12</td>\n",
       "      <td>3</td>\n",
       "      <td>2</td>\n",
       "      <td>Service was impeccable. Experience and present...</td>\n",
       "      <td>N</td>\n",
       "      <td>Patricia M.</td>\n",
       "      <td>Chicago, IL</td>\n",
       "      <td>...</td>\n",
       "      <td>2</td>\n",
       "      <td>11</td>\n",
       "      <td>0</td>\n",
       "      <td>6</td>\n",
       "      <td>0</td>\n",
       "      <td>1</td>\n",
       "      <td>0</td>\n",
       "      <td>0</td>\n",
       "      <td>0</td>\n",
       "      <td>4.5</td>\n",
       "    </tr>\n",
       "    <tr>\n",
       "      <th>3</th>\n",
       "      <td>iSN</td>\n",
       "      <td>DlwexC7z88ymAzu45skODw</td>\n",
       "      <td>pbEiXam9YJL3neCYHGwLUA</td>\n",
       "      <td>Sep-12</td>\n",
       "      <td>3</td>\n",
       "      <td>8</td>\n",
       "      <td>The problem with places like this, given the e...</td>\n",
       "      <td>N</td>\n",
       "      <td>Terry N.</td>\n",
       "      <td>San Jose, CA</td>\n",
       "      <td>...</td>\n",
       "      <td>84</td>\n",
       "      <td>60</td>\n",
       "      <td>1</td>\n",
       "      <td>35</td>\n",
       "      <td>8</td>\n",
       "      <td>6</td>\n",
       "      <td>6</td>\n",
       "      <td>11</td>\n",
       "      <td>0</td>\n",
       "      <td>4.5</td>\n",
       "    </tr>\n",
       "    <tr>\n",
       "      <th>4</th>\n",
       "      <td>Jmwrh7</td>\n",
       "      <td>kW2dk1CWihmh3g7k9N2G8A</td>\n",
       "      <td>pbEiXam9YJL3neCYHGwLUA</td>\n",
       "      <td>Sep-12</td>\n",
       "      <td>5</td>\n",
       "      <td>1</td>\n",
       "      <td>I have no idea how to write my review - dining...</td>\n",
       "      <td>N</td>\n",
       "      <td>Shradha Vegetarianista A.</td>\n",
       "      <td>Chicago, IL</td>\n",
       "      <td>...</td>\n",
       "      <td>333</td>\n",
       "      <td>1209</td>\n",
       "      <td>61</td>\n",
       "      <td>1650</td>\n",
       "      <td>679</td>\n",
       "      <td>417</td>\n",
       "      <td>283</td>\n",
       "      <td>22</td>\n",
       "      <td>70</td>\n",
       "      <td>4.5</td>\n",
       "    </tr>\n",
       "  </tbody>\n",
       "</table>\n",
       "<p>5 rows × 21 columns</p>\n",
       "</div>"
      ],
      "text/plain": [
       "                 reviewID              reviewerID            restaurantID  \\\n",
       "0  GtwU21YOQn-wf4vWRUIx6w  bNYesZ944s6IJVowOnB0iA  pbEiXam9YJL3neCYHGwLUA   \n",
       "1                 0LpVTc3  TRKxLC3y-ZvP45e5iilMtw  pbEiXam9YJL3neCYHGwLUA   \n",
       "2           tljtLzf68Fkwf  0EMm8umAqXZzyhxNpL4M9g  pbEiXam9YJL3neCYHGwLUA   \n",
       "3                     iSN  DlwexC7z88ymAzu45skODw  pbEiXam9YJL3neCYHGwLUA   \n",
       "4                  Jmwrh7  kW2dk1CWihmh3g7k9N2G8A  pbEiXam9YJL3neCYHGwLUA   \n",
       "\n",
       "     date  rating  reviewUsefulCount  \\\n",
       "0  Sep-12       5                  0   \n",
       "1  Sep-12       5                  0   \n",
       "2  Sep-12       3                  2   \n",
       "3  Sep-12       3                  8   \n",
       "4  Sep-12       5                  1   \n",
       "\n",
       "                                       reviewContent flagged  \\\n",
       "0  Unlike Next, which we'd eaten at the previous ...       N   \n",
       "1  Probably one of the best meals I've had ever. ...       N   \n",
       "2  Service was impeccable. Experience and present...       N   \n",
       "3  The problem with places like this, given the e...       N   \n",
       "4  I have no idea how to write my review - dining...       N   \n",
       "\n",
       "                        name                    location  ... friendCount  \\\n",
       "0                   Scott E.                Glengary, WV  ...          11   \n",
       "1                   Jerry K.  Palos Verdes Peninsula, CA  ...           0   \n",
       "2                Patricia M.                 Chicago, IL  ...           2   \n",
       "3                   Terry N.                San Jose, CA  ...          84   \n",
       "4  Shradha Vegetarianista A.                 Chicago, IL  ...         333   \n",
       "\n",
       "   reviewCount  firstCount  usefulCount  coolCount  funnyCount  \\\n",
       "0           48           5           41          5           5   \n",
       "1            4           0            0          0           0   \n",
       "2           11           0            6          0           1   \n",
       "3           60           1           35          8           6   \n",
       "4         1209          61         1650        679         417   \n",
       "\n",
       "   complimentCount  tipCount  fanCount  restaurantRating  \n",
       "0                2         0         1               4.5  \n",
       "1                0         0         0               4.5  \n",
       "2                0         0         0               4.5  \n",
       "3                6        11         0               4.5  \n",
       "4              283        22        70               4.5  \n",
       "\n",
       "[5 rows x 21 columns]"
      ]
     },
     "execution_count": 11,
     "metadata": {},
     "output_type": "execute_result"
    }
   ],
   "source": [
    "df.head()"
   ]
  },
  {
   "cell_type": "code",
   "execution_count": 12,
   "metadata": {},
   "outputs": [
    {
     "data": {
      "text/plain": [
       "['reviewID',\n",
       " 'reviewerID',\n",
       " 'restaurantID',\n",
       " 'date',\n",
       " 'rating',\n",
       " 'reviewUsefulCount',\n",
       " 'reviewContent',\n",
       " 'flagged',\n",
       " 'name',\n",
       " 'location',\n",
       " 'yelpJoinDate',\n",
       " 'friendCount',\n",
       " 'reviewCount',\n",
       " 'firstCount',\n",
       " 'usefulCount',\n",
       " 'coolCount',\n",
       " 'funnyCount',\n",
       " 'complimentCount',\n",
       " 'tipCount',\n",
       " 'fanCount',\n",
       " 'restaurantRating']"
      ]
     },
     "execution_count": 12,
     "metadata": {},
     "output_type": "execute_result"
    }
   ],
   "source": [
    "list(df.columns)"
   ]
  },
  {
   "cell_type": "code",
   "execution_count": 13,
   "metadata": {},
   "outputs": [
    {
     "name": "stdout",
     "output_type": "stream",
     "text": [
      "Authentic 20752\n",
      "Fake 6206\n"
     ]
    },
    {
     "data": {
      "image/png": "[encoded data removed]",
      "text/plain": [
       "<Figure size 432x288 with 1 Axes>"
      ]
     },
     "metadata": {
      "needs_background": "light"
     },
     "output_type": "display_data"
    }
   ],
   "source": [
    "# imbalance data\n",
    "print(\"Authentic\", len(df[(df['flagged'] == 'N')]))\n",
    "print(\"Fake\", len(df[(df['flagged'] == 'Y')]))\n",
    "\n",
    "fig, ax = plt.subplots(figsize=(6, 4))\n",
    "sns.countplot(x='flagged', data=df)\n",
    "plt.title(\"Count of Reviews\")\n",
    "plt.show()"
   ]
  },
  {
   "cell_type": "code",
   "execution_count": 14,
   "metadata": {},
   "outputs": [],
   "source": [
    "# output the review data for word2vec modeling"
   ]
  },
  {
   "cell_type": "code",
   "execution_count": 15,
   "metadata": {},
   "outputs": [],
   "source": [
    "df[['reviewContent']].to_csv(\"word2vec/restautant_review_corpus.csv\",index=False)"
   ]
  },
  {
   "cell_type": "markdown",
   "metadata": {},
   "source": [
    "### Data preprocessing and Feature Extraction"
   ]
  },
  {
   "cell_type": "code",
   "execution_count": 16,
   "metadata": {},
   "outputs": [
    {
     "name": "stdout",
     "output_type": "stream",
     "text": [
      "Data Cleaning Complete\n"
     ]
    }
   ],
   "source": [
    "# Pre-processing Text Reviews\n",
    "# Remove Stop Words\n",
    "stop = stopwords.words('english')\n",
    "df['reviewContent'] = df['reviewContent'].apply(\n",
    "    lambda x: ' '.join(word for word in x.split() if word not in stop))\n",
    "\n",
    "# Remove Punctuations\n",
    "tokenizer = RegexpTokenizer(r'\\w+')\n",
    "df['reviewContent'] = df['reviewContent'].apply(\n",
    "    lambda x: ' '.join(word for word in tokenizer.tokenize(x)))\n",
    "\n",
    "# Lowercase Words\n",
    "df['reviewContent'] = df['reviewContent'].apply(\n",
    "    lambda x: x.lower())\n",
    "print(\"Data Cleaning Complete\")"
   ]
  },
  {
   "cell_type": "code",
   "execution_count": 17,
   "metadata": {},
   "outputs": [],
   "source": [
    "df_copy = df.copy()"
   ]
  },
  {
   "cell_type": "markdown",
   "metadata": {},
   "source": [
    "### Word2Vec glove-100d\n",
    "We use the glove-twitter-100d word2vec pretrained model\n",
    "\n",
    "GloVe is an unsupervised learning algorithm for obtaining vector representations for words. Training is performed on aggregated global word-word co-occurrence statistics from a corpus, and the resulting representations showcase interesting linear substructures of the word vector space.\n",
    "\n",
    "If you want to run the code please down from https://nlp.stanford.edu/projects/glove/  and change it into gensim format, then load the model https://radimrehurek.com/gensim/scripts/glove2word2vec.html"
   ]
  },
  {
   "cell_type": "code",
   "execution_count": 18,
   "metadata": {},
   "outputs": [],
   "source": [
    "from gensim.models import KeyedVectors\n",
    "w2vmodel = KeyedVectors.load('word2vec/glove-100d.model')"
   ]
  },
  {
   "cell_type": "code",
   "execution_count": 19,
   "metadata": {},
   "outputs": [],
   "source": [
    "def get_contentVector(content):\n",
    "    cutWords = tokenizer.tokenize(content)\n",
    "    vector_list = [w2vmodel.wv[k] for k in cutWords if k in w2vmodel]\n",
    "    contentVector = np.array(vector_list).mean(axis=0)\n",
    "    return pd.Series(contentVector)"
   ]
  },
  {
   "cell_type": "code",
   "execution_count": 20,
   "metadata": {},
   "outputs": [
    {
     "name": "stderr",
     "output_type": "stream",
     "text": [
      "/Users/jiachenx/opt/anaconda3/envs/FakeReview/lib/python3.6/site-packages/ipykernel_launcher.py:3: DeprecationWarning: Call to deprecated `wv` (Attribute will be removed in 4.0.0, use self instead).\n",
      "  This is separate from the ipykernel package so we can avoid doing imports until\n",
      "/Users/jiachenx/opt/anaconda3/envs/FakeReview/lib/python3.6/site-packages/ipykernel_launcher.py:4: RuntimeWarning: Mean of empty slice.\n",
      "  after removing the cwd from sys.path.\n"
     ]
    },
    {
     "data": {
      "text/html": [
       "<div>\n",
       "<style scoped>\n",
       "    .dataframe tbody tr th:only-of-type {\n",
       "        vertical-align: middle;\n",
       "    }\n",
       "\n",
       "    .dataframe tbody tr th {\n",
       "        vertical-align: top;\n",
       "    }\n",
       "\n",
       "    .dataframe thead th {\n",
       "        text-align: right;\n",
       "    }\n",
       "</style>\n",
       "<table border=\"1\" class=\"dataframe\">\n",
       "  <thead>\n",
       "    <tr style=\"text-align: right;\">\n",
       "      <th></th>\n",
       "      <th>0</th>\n",
       "      <th>1</th>\n",
       "      <th>2</th>\n",
       "      <th>3</th>\n",
       "      <th>4</th>\n",
       "      <th>5</th>\n",
       "      <th>6</th>\n",
       "      <th>7</th>\n",
       "      <th>8</th>\n",
       "      <th>9</th>\n",
       "      <th>...</th>\n",
       "      <th>90</th>\n",
       "      <th>91</th>\n",
       "      <th>92</th>\n",
       "      <th>93</th>\n",
       "      <th>94</th>\n",
       "      <th>95</th>\n",
       "      <th>96</th>\n",
       "      <th>97</th>\n",
       "      <th>98</th>\n",
       "      <th>99</th>\n",
       "    </tr>\n",
       "  </thead>\n",
       "  <tbody>\n",
       "    <tr>\n",
       "      <th>0</th>\n",
       "      <td>0.084144</td>\n",
       "      <td>0.008924</td>\n",
       "      <td>0.072401</td>\n",
       "      <td>-0.024843</td>\n",
       "      <td>-0.007080</td>\n",
       "      <td>0.141786</td>\n",
       "      <td>0.091255</td>\n",
       "      <td>-0.074103</td>\n",
       "      <td>0.027709</td>\n",
       "      <td>-0.176506</td>\n",
       "      <td>...</td>\n",
       "      <td>-0.035626</td>\n",
       "      <td>0.222498</td>\n",
       "      <td>0.051498</td>\n",
       "      <td>-0.057887</td>\n",
       "      <td>-0.054126</td>\n",
       "      <td>0.020648</td>\n",
       "      <td>-0.103095</td>\n",
       "      <td>-0.075659</td>\n",
       "      <td>0.041480</td>\n",
       "      <td>0.072034</td>\n",
       "    </tr>\n",
       "    <tr>\n",
       "      <th>1</th>\n",
       "      <td>0.141765</td>\n",
       "      <td>0.207773</td>\n",
       "      <td>0.234413</td>\n",
       "      <td>-0.043761</td>\n",
       "      <td>0.000654</td>\n",
       "      <td>0.145734</td>\n",
       "      <td>0.201733</td>\n",
       "      <td>0.111585</td>\n",
       "      <td>0.022794</td>\n",
       "      <td>-0.080799</td>\n",
       "      <td>...</td>\n",
       "      <td>0.056707</td>\n",
       "      <td>0.196300</td>\n",
       "      <td>-0.017508</td>\n",
       "      <td>0.024537</td>\n",
       "      <td>-0.097960</td>\n",
       "      <td>-0.080605</td>\n",
       "      <td>-0.110721</td>\n",
       "      <td>-0.011972</td>\n",
       "      <td>0.114266</td>\n",
       "      <td>-0.244148</td>\n",
       "    </tr>\n",
       "    <tr>\n",
       "      <th>2</th>\n",
       "      <td>-0.123290</td>\n",
       "      <td>0.068526</td>\n",
       "      <td>0.066293</td>\n",
       "      <td>0.005036</td>\n",
       "      <td>-0.014015</td>\n",
       "      <td>0.109850</td>\n",
       "      <td>0.255440</td>\n",
       "      <td>-0.075957</td>\n",
       "      <td>0.131502</td>\n",
       "      <td>-0.089424</td>\n",
       "      <td>...</td>\n",
       "      <td>-0.092967</td>\n",
       "      <td>0.238611</td>\n",
       "      <td>0.049966</td>\n",
       "      <td>-0.062526</td>\n",
       "      <td>-0.021822</td>\n",
       "      <td>0.066229</td>\n",
       "      <td>-0.138664</td>\n",
       "      <td>-0.085024</td>\n",
       "      <td>0.078007</td>\n",
       "      <td>-0.165661</td>\n",
       "    </tr>\n",
       "    <tr>\n",
       "      <th>3</th>\n",
       "      <td>0.075067</td>\n",
       "      <td>0.010753</td>\n",
       "      <td>0.094559</td>\n",
       "      <td>0.067016</td>\n",
       "      <td>-0.054777</td>\n",
       "      <td>0.162296</td>\n",
       "      <td>0.073667</td>\n",
       "      <td>-0.150416</td>\n",
       "      <td>0.061360</td>\n",
       "      <td>-0.111508</td>\n",
       "      <td>...</td>\n",
       "      <td>-0.048152</td>\n",
       "      <td>0.204064</td>\n",
       "      <td>0.037275</td>\n",
       "      <td>-0.012145</td>\n",
       "      <td>-0.082443</td>\n",
       "      <td>0.008805</td>\n",
       "      <td>-0.080638</td>\n",
       "      <td>-0.111319</td>\n",
       "      <td>0.039832</td>\n",
       "      <td>-0.011517</td>\n",
       "    </tr>\n",
       "    <tr>\n",
       "      <th>4</th>\n",
       "      <td>0.049837</td>\n",
       "      <td>0.004028</td>\n",
       "      <td>0.081646</td>\n",
       "      <td>0.067587</td>\n",
       "      <td>0.045614</td>\n",
       "      <td>0.148659</td>\n",
       "      <td>0.179289</td>\n",
       "      <td>-0.162285</td>\n",
       "      <td>0.032707</td>\n",
       "      <td>-0.059238</td>\n",
       "      <td>...</td>\n",
       "      <td>-0.078252</td>\n",
       "      <td>0.174925</td>\n",
       "      <td>0.044389</td>\n",
       "      <td>-0.015281</td>\n",
       "      <td>-0.037578</td>\n",
       "      <td>-0.017072</td>\n",
       "      <td>-0.034766</td>\n",
       "      <td>-0.159711</td>\n",
       "      <td>0.019966</td>\n",
       "      <td>-0.019692</td>\n",
       "    </tr>\n",
       "    <tr>\n",
       "      <th>...</th>\n",
       "      <td>...</td>\n",
       "      <td>...</td>\n",
       "      <td>...</td>\n",
       "      <td>...</td>\n",
       "      <td>...</td>\n",
       "      <td>...</td>\n",
       "      <td>...</td>\n",
       "      <td>...</td>\n",
       "      <td>...</td>\n",
       "      <td>...</td>\n",
       "      <td>...</td>\n",
       "      <td>...</td>\n",
       "      <td>...</td>\n",
       "      <td>...</td>\n",
       "      <td>...</td>\n",
       "      <td>...</td>\n",
       "      <td>...</td>\n",
       "      <td>...</td>\n",
       "      <td>...</td>\n",
       "      <td>...</td>\n",
       "      <td>...</td>\n",
       "    </tr>\n",
       "    <tr>\n",
       "      <th>26953</th>\n",
       "      <td>0.026625</td>\n",
       "      <td>0.199872</td>\n",
       "      <td>0.195187</td>\n",
       "      <td>0.141991</td>\n",
       "      <td>0.012617</td>\n",
       "      <td>0.092493</td>\n",
       "      <td>0.231181</td>\n",
       "      <td>0.139785</td>\n",
       "      <td>-0.040430</td>\n",
       "      <td>-0.125180</td>\n",
       "      <td>...</td>\n",
       "      <td>-0.065327</td>\n",
       "      <td>0.088676</td>\n",
       "      <td>-0.027421</td>\n",
       "      <td>0.038431</td>\n",
       "      <td>-0.135566</td>\n",
       "      <td>-0.053532</td>\n",
       "      <td>-0.143536</td>\n",
       "      <td>-0.171461</td>\n",
       "      <td>0.127410</td>\n",
       "      <td>-0.000407</td>\n",
       "    </tr>\n",
       "    <tr>\n",
       "      <th>26954</th>\n",
       "      <td>-0.001614</td>\n",
       "      <td>0.042054</td>\n",
       "      <td>0.052811</td>\n",
       "      <td>0.058703</td>\n",
       "      <td>-0.036805</td>\n",
       "      <td>0.062848</td>\n",
       "      <td>0.124824</td>\n",
       "      <td>-0.057469</td>\n",
       "      <td>-0.012216</td>\n",
       "      <td>-0.076118</td>\n",
       "      <td>...</td>\n",
       "      <td>-0.046604</td>\n",
       "      <td>0.115391</td>\n",
       "      <td>0.036704</td>\n",
       "      <td>-0.159428</td>\n",
       "      <td>-0.032223</td>\n",
       "      <td>0.039653</td>\n",
       "      <td>-0.179386</td>\n",
       "      <td>-0.014541</td>\n",
       "      <td>-0.093790</td>\n",
       "      <td>0.039312</td>\n",
       "    </tr>\n",
       "    <tr>\n",
       "      <th>26955</th>\n",
       "      <td>0.189181</td>\n",
       "      <td>0.079610</td>\n",
       "      <td>0.029813</td>\n",
       "      <td>0.031000</td>\n",
       "      <td>-0.182015</td>\n",
       "      <td>0.291139</td>\n",
       "      <td>0.064338</td>\n",
       "      <td>0.121546</td>\n",
       "      <td>-0.019083</td>\n",
       "      <td>-0.063416</td>\n",
       "      <td>...</td>\n",
       "      <td>-0.221051</td>\n",
       "      <td>0.199944</td>\n",
       "      <td>-0.094352</td>\n",
       "      <td>0.152009</td>\n",
       "      <td>-0.164242</td>\n",
       "      <td>-0.074402</td>\n",
       "      <td>-0.051681</td>\n",
       "      <td>-0.047223</td>\n",
       "      <td>0.048314</td>\n",
       "      <td>0.091608</td>\n",
       "    </tr>\n",
       "    <tr>\n",
       "      <th>26956</th>\n",
       "      <td>0.177052</td>\n",
       "      <td>0.096522</td>\n",
       "      <td>0.073248</td>\n",
       "      <td>-0.072260</td>\n",
       "      <td>-0.081190</td>\n",
       "      <td>0.187631</td>\n",
       "      <td>-0.071591</td>\n",
       "      <td>0.013468</td>\n",
       "      <td>0.054783</td>\n",
       "      <td>-0.008010</td>\n",
       "      <td>...</td>\n",
       "      <td>-0.102369</td>\n",
       "      <td>0.075509</td>\n",
       "      <td>-0.063999</td>\n",
       "      <td>0.043511</td>\n",
       "      <td>-0.049056</td>\n",
       "      <td>-0.013475</td>\n",
       "      <td>-0.003023</td>\n",
       "      <td>-0.181133</td>\n",
       "      <td>0.224108</td>\n",
       "      <td>-0.060496</td>\n",
       "    </tr>\n",
       "    <tr>\n",
       "      <th>26957</th>\n",
       "      <td>0.188078</td>\n",
       "      <td>0.163995</td>\n",
       "      <td>0.101911</td>\n",
       "      <td>-0.050603</td>\n",
       "      <td>-0.111440</td>\n",
       "      <td>-0.191738</td>\n",
       "      <td>0.231628</td>\n",
       "      <td>-0.050299</td>\n",
       "      <td>-0.053876</td>\n",
       "      <td>-0.183057</td>\n",
       "      <td>...</td>\n",
       "      <td>0.116707</td>\n",
       "      <td>0.144134</td>\n",
       "      <td>-0.179688</td>\n",
       "      <td>0.084884</td>\n",
       "      <td>0.051369</td>\n",
       "      <td>0.105166</td>\n",
       "      <td>0.068856</td>\n",
       "      <td>-0.092253</td>\n",
       "      <td>0.104806</td>\n",
       "      <td>0.220394</td>\n",
       "    </tr>\n",
       "  </tbody>\n",
       "</table>\n",
       "<p>26958 rows × 100 columns</p>\n",
       "</div>"
      ],
      "text/plain": [
       "             0         1         2         3         4         5         6   \\\n",
       "0      0.084144  0.008924  0.072401 -0.024843 -0.007080  0.141786  0.091255   \n",
       "1      0.141765  0.207773  0.234413 -0.043761  0.000654  0.145734  0.201733   \n",
       "2     -0.123290  0.068526  0.066293  0.005036 -0.014015  0.109850  0.255440   \n",
       "3      0.075067  0.010753  0.094559  0.067016 -0.054777  0.162296  0.073667   \n",
       "4      0.049837  0.004028  0.081646  0.067587  0.045614  0.148659  0.179289   \n",
       "...         ...       ...       ...       ...       ...       ...       ...   \n",
       "26953  0.026625  0.199872  0.195187  0.141991  0.012617  0.092493  0.231181   \n",
       "26954 -0.001614  0.042054  0.052811  0.058703 -0.036805  0.062848  0.124824   \n",
       "26955  0.189181  0.079610  0.029813  0.031000 -0.182015  0.291139  0.064338   \n",
       "26956  0.177052  0.096522  0.073248 -0.072260 -0.081190  0.187631 -0.071591   \n",
       "26957  0.188078  0.163995  0.101911 -0.050603 -0.111440 -0.191738  0.231628   \n",
       "\n",
       "             7         8         9   ...        90        91        92  \\\n",
       "0     -0.074103  0.027709 -0.176506  ... -0.035626  0.222498  0.051498   \n",
       "1      0.111585  0.022794 -0.080799  ...  0.056707  0.196300 -0.017508   \n",
       "2     -0.075957  0.131502 -0.089424  ... -0.092967  0.238611  0.049966   \n",
       "3     -0.150416  0.061360 -0.111508  ... -0.048152  0.204064  0.037275   \n",
       "4     -0.162285  0.032707 -0.059238  ... -0.078252  0.174925  0.044389   \n",
       "...         ...       ...       ...  ...       ...       ...       ...   \n",
       "26953  0.139785 -0.040430 -0.125180  ... -0.065327  0.088676 -0.027421   \n",
       "26954 -0.057469 -0.012216 -0.076118  ... -0.046604  0.115391  0.036704   \n",
       "26955  0.121546 -0.019083 -0.063416  ... -0.221051  0.199944 -0.094352   \n",
       "26956  0.013468  0.054783 -0.008010  ... -0.102369  0.075509 -0.063999   \n",
       "26957 -0.050299 -0.053876 -0.183057  ...  0.116707  0.144134 -0.179688   \n",
       "\n",
       "             93        94        95        96        97        98        99  \n",
       "0     -0.057887 -0.054126  0.020648 -0.103095 -0.075659  0.041480  0.072034  \n",
       "1      0.024537 -0.097960 -0.080605 -0.110721 -0.011972  0.114266 -0.244148  \n",
       "2     -0.062526 -0.021822  0.066229 -0.138664 -0.085024  0.078007 -0.165661  \n",
       "3     -0.012145 -0.082443  0.008805 -0.080638 -0.111319  0.039832 -0.011517  \n",
       "4     -0.015281 -0.037578 -0.017072 -0.034766 -0.159711  0.019966 -0.019692  \n",
       "...         ...       ...       ...       ...       ...       ...       ...  \n",
       "26953  0.038431 -0.135566 -0.053532 -0.143536 -0.171461  0.127410 -0.000407  \n",
       "26954 -0.159428 -0.032223  0.039653 -0.179386 -0.014541 -0.093790  0.039312  \n",
       "26955  0.152009 -0.164242 -0.074402 -0.051681 -0.047223  0.048314  0.091608  \n",
       "26956  0.043511 -0.049056 -0.013475 -0.003023 -0.181133  0.224108 -0.060496  \n",
       "26957  0.084884  0.051369  0.105166  0.068856 -0.092253  0.104806  0.220394  \n",
       "\n",
       "[26958 rows x 100 columns]"
      ]
     },
     "execution_count": 20,
     "metadata": {},
     "output_type": "execute_result"
    }
   ],
   "source": [
    "train_data_features = df_copy.reviewContent.apply(get_contentVector)\n",
    "train_data_features"
   ]
  },
  {
   "cell_type": "code",
   "execution_count": 21,
   "metadata": {},
   "outputs": [],
   "source": [
    "df_copy = pd.concat([df_copy,train_data_features], axis=1)"
   ]
  },
  {
   "cell_type": "code",
   "execution_count": 22,
   "metadata": {},
   "outputs": [
    {
     "name": "stdout",
     "output_type": "stream",
     "text": [
      "Feature Engineering: Creating New Features\n"
     ]
    }
   ],
   "source": [
    "print(\"Feature Engineering: Creating New Features\")\n",
    "# Maximum Number of Reviews per month per reviewer\n",
    "mnr_df1 = df_copy[['reviewerID', 'date']].copy()\n",
    "mnr_df2 = mnr_df1.groupby(by=['date', 'reviewerID']).size().reset_index(name='mnr')\n",
    "mnr_df2['mnr'] = mnr_df2['mnr'] / mnr_df2['mnr'].max()\n",
    "df_copy = df_copy.merge(mnr_df2, on=['reviewerID', 'date'], how='inner')\n",
    "\n",
    "# Review Length\n",
    "df_copy['rl'] = df_copy['reviewContent'].apply(\n",
    "    lambda x: len(x.split()))\n",
    "\n",
    "# Review Deviation\n",
    "df_copy['rd'] = abs(df_copy['rating'] - df_copy['restaurantRating']) / 4"
   ]
  },
  {
   "cell_type": "code",
   "execution_count": 23,
   "metadata": {},
   "outputs": [
    {
     "name": "stderr",
     "output_type": "stream",
     "text": [
      "/Users/jiachenx/opt/anaconda3/envs/FakeReview/lib/python3.6/site-packages/ipykernel_launcher.py:15: DeprecationWarning: The default dtype for empty Series will be 'object' instead of 'float64' in a future version. Specify a dtype explicitly to silence this warning.\n",
      "  from ipykernel import kernelapp as app\n",
      "/Users/jiachenx/opt/anaconda3/envs/FakeReview/lib/python3.6/site-packages/ipykernel_launcher.py:16: DeprecationWarning: The default dtype for empty Series will be 'object' instead of 'float64' in a future version. Specify a dtype explicitly to silence this warning.\n",
      "  app.launch_new_instance()\n"
     ]
    },
    {
     "name": "stdout",
     "output_type": "stream",
     "text": [
      "Feature Engineering Complete\n"
     ]
    }
   ],
   "source": [
    "# Maximum cosine similarity\n",
    "review_data = df_copy\n",
    "\n",
    "res = OrderedDict()\n",
    "\n",
    "# Iterate over data and create groups of reviewers\n",
    "for row in review_data.iterrows():\n",
    "    if row[1].reviewerID in res:\n",
    "        res[row[1].reviewerID].append(row[1].reviewContent)\n",
    "    else:\n",
    "        res[row[1].reviewerID] = [row[1].reviewContent]\n",
    "\n",
    "individual_reviewer = [{'reviewerID': k, 'reviewContent': v} for k, v in res.items()]\n",
    "df2 = dict()\n",
    "df2['reviewerID'] = pd.Series([])\n",
    "df2['Maximum Content Similarity'] = pd.Series([])\n",
    "vector = TfidfVectorizer(min_df=0)\n",
    "count = -1\n",
    "for reviewer_data in individual_reviewer:\n",
    "    count = count + 1\n",
    "    # Handle Null/single review gracefully -24-Apr-2019\n",
    "    try:\n",
    "        tfidf = vector.fit_transform(reviewer_data['reviewContent'])\n",
    "    except:\n",
    "        pass\n",
    "    cosine = 1 - pairwise_distances(tfidf, metric='cosine')\n",
    "\n",
    "    np.fill_diagonal(cosine, -np.inf)\n",
    "    max = cosine.max()\n",
    "\n",
    "    # To handle reviewier with just 1 review\n",
    "    if max == -np.inf:\n",
    "        max = 0\n",
    "    df2['reviewerID'][count] = reviewer_data['reviewerID']\n",
    "    df2['Maximum Content Similarity'][count] = max\n",
    "\n",
    "df3 = pd.DataFrame(df2, columns=['reviewerID', 'Maximum Content Similarity'])\n",
    "\n",
    "# left outer join on original datamatrix and cosine dataframe -24-Apr-2019\n",
    "df_copy = pd.merge(review_data, df3, on=\"reviewerID\", how=\"left\")\n",
    "\n",
    "df_copy.drop(index=np.where(pd.isnull(df_copy))[0], axis=0, inplace=True)\n",
    "print(\"Feature Engineering Complete\")"
   ]
  },
  {
   "cell_type": "markdown",
   "metadata": {},
   "source": [
    "## Split the dataset into training, testing and validation"
   ]
  },
  {
   "cell_type": "markdown",
   "metadata": {},
   "source": [
    "### Under-samling data"
   ]
  },
  {
   "cell_type": "code",
   "execution_count": 24,
   "metadata": {},
   "outputs": [],
   "source": [
    "def under_sampling(df):\n",
    "    print(\"Under-Sampling Data\")\n",
    "    # Count of Reviews\n",
    "    print(\"Authentic\", len(df[(df['flagged'] == 'N')]))\n",
    "    print(\"Fake\", len(df[(df['flagged'] == 'Y')]))\n",
    "    \n",
    "    fig, ax = plt.subplots(figsize=(6, 4))\n",
    "    sns.countplot(x='flagged', data=df)\n",
    "    plt.title(\"Count of Reviews\")\n",
    "    plt.show()\n",
    "\n",
    "    sample_size = len(df[(df['flagged'] == 'Y')])\n",
    "\n",
    "    authentic_reviews_df = df[df['flagged'] == 'N']\n",
    "    fake_reviews_df = df[df['flagged'] == 'Y']\n",
    "\n",
    "    authentic_reviews_us_df = authentic_reviews_df.sample(sample_size)\n",
    "    under_sampled_df = pd.concat([authentic_reviews_us_df, fake_reviews_df], axis=0)\n",
    "\n",
    "    print(\"Under-Sampled Fake\", len(under_sampled_df[(under_sampled_df['flagged'] == 'Y')]))\n",
    "    print(\"Under-Sampled Authentic\", len(under_sampled_df[(under_sampled_df['flagged'] == 'N')]))\n",
    "\n",
    "    #Graph of Data Distribution\n",
    "    fig, ax = plt.subplots(figsize=(6, 4))\n",
    "    sns.countplot(x='flagged', data=under_sampled_df)\n",
    "    plt.title(\"Count of Reviews\")\n",
    "    plt.show()\n",
    "    print(\"Under-Sampling Complete\")\n",
    "    return under_sampled_df"
   ]
  },
  {
   "cell_type": "code",
   "execution_count": 25,
   "metadata": {},
   "outputs": [],
   "source": [
    "## No undersampling data"
   ]
  },
  {
   "cell_type": "code",
   "execution_count": 26,
   "metadata": {},
   "outputs": [],
   "source": [
    "_df_copy = df_copy.copy()\n",
    "labels = _df_copy['flagged']\n",
    "\n",
    "_df_copy.drop(['reviewID', 'reviewerID', 'restaurantID', 'date', 'name', 'location', 'yelpJoinDate', 'flagged','restaurantRating',\n",
    "         'friendCount','firstCount','usefulCount','coolCount','funnyCount','complimentCount','tipCount','fanCount'], axis=1, inplace=True)\n",
    "\n",
    "train_data, test_data, train_label, test_label = train_test_split(_df_copy, labels,\n",
    "                                                                  stratify = labels,\n",
    "                                                                  test_size=0.2, random_state=42)\n",
    "train_data, valid_data, train_label, valid_label = train_test_split(train_data, \n",
    "                                                                    train_label,\n",
    "                                                                    stratify = train_label,\n",
    "                                                                    test_size=0.1, \n",
    "                                                                    random_state=42)\n",
    "test_dataset = pd.concat([test_data,test_label],axis=1)\n",
    "test_dataset.to_csv(\"data/pretrained_model/test_no_sampled.csv\",index=False)\n",
    "valid_dataset = pd.concat([valid_data,valid_label],axis=1)\n",
    "valid_dataset.to_csv(\"data/pretrained_model/valid_no_sampled.csv\",index=False)\n",
    "\n",
    "train_dataset = pd.concat([train_data,train_label],axis=1)\n",
    "\n",
    "# train_dataset = under_sampling(train_dataset)\n",
    "train_dataset.to_csv(\"data/pretrained_model/train_no_sampled.csv\",index=False)"
   ]
  },
  {
   "cell_type": "code",
   "execution_count": 27,
   "metadata": {},
   "outputs": [],
   "source": [
    "## undersampling data"
   ]
  },
  {
   "cell_type": "code",
   "execution_count": 28,
   "metadata": {},
   "outputs": [
    {
     "name": "stdout",
     "output_type": "stream",
     "text": [
      "Under-Sampling Data\n",
      "Authentic 14940\n",
      "Fake 4467\n"
     ]
    },
    {
     "data": {
      "image/png": "[encoded data removed]",
      "text/plain": [
       "<Figure size 432x288 with 1 Axes>"
      ]
     },
     "metadata": {
      "needs_background": "light"
     },
     "output_type": "display_data"
    },
    {
     "name": "stdout",
     "output_type": "stream",
     "text": [
      "Under-Sampled Fake 4467\n",
      "Under-Sampled Authentic 4467\n"
     ]
    },
    {
     "data": {
      "image/png": "[encoded data removed]",
      "text/plain": [
       "<Figure size 432x288 with 1 Axes>"
      ]
     },
     "metadata": {
      "needs_background": "light"
     },
     "output_type": "display_data"
    },
    {
     "name": "stdout",
     "output_type": "stream",
     "text": [
      "Under-Sampling Complete\n"
     ]
    }
   ],
   "source": [
    "_df_copy = df_copy.copy()\n",
    "labels = _df_copy['flagged']\n",
    "\n",
    "_df_copy.drop(['reviewID', 'reviewerID', 'restaurantID', 'date', 'name', 'location', 'yelpJoinDate', 'flagged','restaurantRating',\n",
    "         'friendCount','firstCount','usefulCount','coolCount','funnyCount','complimentCount','tipCount','fanCount'], axis=1, inplace=True)\n",
    "\n",
    "train_data, test_data, train_label, test_label = train_test_split(_df_copy, labels,\n",
    "                                                                  stratify = labels,\n",
    "                                                                  test_size=0.2, random_state=42)\n",
    "train_data, valid_data, train_label, valid_label = train_test_split(train_data, \n",
    "                                                                    train_label,\n",
    "                                                                    stratify = train_label,\n",
    "                                                                    test_size=0.1, \n",
    "                                                                    random_state=42)\n",
    "test_dataset = pd.concat([test_data,test_label],axis=1)\n",
    "test_dataset.to_csv(\"data/pretrained_model/test.csv\",index=False)\n",
    "valid_dataset = pd.concat([valid_data,valid_label],axis=1)\n",
    "valid_dataset.to_csv(\"data/pretrained_model/valid.csv\",index=False)\n",
    "\n",
    "train_dataset = pd.concat([train_data,train_label],axis=1)\n",
    "\n",
    "train_dataset = under_sampling(train_dataset)\n",
    "train_dataset.to_csv(\"data/pretrained_model/train.csv\",index=False)"
   ]
  },
  {
   "cell_type": "code",
   "execution_count": 29,
   "metadata": {},
   "outputs": [],
   "source": [
    "## undersampling data only word2vec data"
   ]
  },
  {
   "cell_type": "code",
   "execution_count": 30,
   "metadata": {},
   "outputs": [
    {
     "name": "stdout",
     "output_type": "stream",
     "text": [
      "Under-Sampling Data\n",
      "Authentic 14940\n",
      "Fake 4467\n"
     ]
    },
    {
     "data": {
      "image/png": "[encoded data removed]",
      "text/plain": [
       "<Figure size 432x288 with 1 Axes>"
      ]
     },
     "metadata": {
      "needs_background": "light"
     },
     "output_type": "display_data"
    },
    {
     "name": "stdout",
     "output_type": "stream",
     "text": [
      "Under-Sampled Fake 4467\n",
      "Under-Sampled Authentic 4467\n"
     ]
    },
    {
     "data": {
      "image/png": "[encoded data removed]",
      "text/plain": [
       "<Figure size 432x288 with 1 Axes>"
      ]
     },
     "metadata": {
      "needs_background": "light"
     },
     "output_type": "display_data"
    },
    {
     "name": "stdout",
     "output_type": "stream",
     "text": [
      "Under-Sampling Complete\n"
     ]
    }
   ],
   "source": [
    "_df_copy = df_copy.copy()\n",
    "\n",
    "labels = _df_copy['flagged']\n",
    "\n",
    "_df_copy.drop(['reviewID', 'reviewerID', 'restaurantID', 'date', 'name', 'location', 'yelpJoinDate', 'flagged','restaurantRating',\n",
    "         'friendCount','firstCount','usefulCount','coolCount','funnyCount','complimentCount','tipCount','fanCount',\n",
    "        'rating','reviewUsefulCount','mnr','rl','rd','Maximum Content Similarity'], axis=1, inplace=True)\n",
    "\n",
    "train_data, test_data, train_label, test_label = train_test_split(_df_copy, labels,\n",
    "                                                                  stratify = labels,\n",
    "                                                                  test_size=0.2, random_state=42)\n",
    "train_data, valid_data, train_label, valid_label = train_test_split(train_data, \n",
    "                                                                    train_label,\n",
    "                                                                    stratify = train_label,\n",
    "                                                                    test_size=0.1, \n",
    "                                                                    random_state=42)\n",
    "test_dataset = pd.concat([test_data,test_label],axis=1)\n",
    "test_dataset.to_csv(\"data/pretrained_model/test_no_bf.csv\",index=False)\n",
    "valid_dataset = pd.concat([valid_data,valid_label],axis=1)\n",
    "valid_dataset.to_csv(\"data/pretrained_model/valid_no_bf.csv\",index=False)\n",
    "\n",
    "train_dataset = pd.concat([train_data,train_label],axis=1)\n",
    "\n",
    "train_dataset = under_sampling(train_dataset)\n",
    "train_dataset.to_csv(\"data/pretrained_model/train_no_bf.csv\",index=False)"
   ]
  },
  {
   "cell_type": "code",
   "execution_count": 31,
   "metadata": {},
   "outputs": [],
   "source": [
    "## undersampling data only bf data"
   ]
  },
  {
   "cell_type": "code",
   "execution_count": 32,
   "metadata": {},
   "outputs": [
    {
     "name": "stdout",
     "output_type": "stream",
     "text": [
      "Under-Sampling Data\n",
      "Authentic 14940\n",
      "Fake 4467\n"
     ]
    },
    {
     "data": {
      "image/png": "[encoded data removed]",
      "text/plain": [
       "<Figure size 432x288 with 1 Axes>"
      ]
     },
     "metadata": {
      "needs_background": "light"
     },
     "output_type": "display_data"
    },
    {
     "name": "stdout",
     "output_type": "stream",
     "text": [
      "Under-Sampled Fake 4467\n",
      "Under-Sampled Authentic 4467\n"
     ]
    },
    {
     "data": {
      "image/png": "[encoded data removed]",
      "text/plain": [
       "<Figure size 432x288 with 1 Axes>"
      ]
     },
     "metadata": {
      "needs_background": "light"
     },
     "output_type": "display_data"
    },
    {
     "name": "stdout",
     "output_type": "stream",
     "text": [
      "Under-Sampling Complete\n"
     ]
    }
   ],
   "source": [
    "_df_copy = df_copy.copy()\n",
    "\n",
    "labels = _df_copy['flagged']\n",
    "\n",
    "_df_copy = _df_copy.filter(regex=(\"^[a-zA-Z]\"))\n",
    "\n",
    "_df_copy.drop(['reviewID', 'reviewerID', 'restaurantID', 'date', 'name', 'location', 'yelpJoinDate', 'flagged','restaurantRating',\n",
    "         'friendCount','firstCount','usefulCount','coolCount','funnyCount','complimentCount','tipCount','fanCount'], axis=1, inplace=True)\n",
    "\n",
    "train_data, test_data, train_label, test_label = train_test_split(_df_copy, labels,\n",
    "                                                                  stratify = labels,\n",
    "                                                                  test_size=0.2, random_state=42)\n",
    "train_data, valid_data, train_label, valid_label = train_test_split(train_data, \n",
    "                                                                    train_label,\n",
    "                                                                    stratify = train_label,\n",
    "                                                                    test_size=0.1, \n",
    "                                                                    random_state=42)\n",
    "test_dataset = pd.concat([test_data,test_label],axis=1)\n",
    "test_dataset.to_csv(\"data/pretrained_model/test_bf.csv\",index=False)\n",
    "valid_dataset = pd.concat([valid_data,valid_label],axis=1)\n",
    "valid_dataset.to_csv(\"data/pretrained_model/valid_bf.csv\",index=False)\n",
    "\n",
    "train_dataset = pd.concat([train_data,train_label],axis=1)\n",
    "\n",
    "train_dataset = under_sampling(train_dataset)\n",
    "train_dataset.to_csv(\"data/pretrained_model/train_bf.csv\",index=False)"
   ]
  },
  {
   "cell_type": "markdown",
   "metadata": {},
   "source": [
    "### Word2Vec self-corpus\n",
    "\n",
    "We only use the corpus in the review data to train a word2vec model with gensim"
   ]
  },
  {
   "cell_type": "code",
   "execution_count": 33,
   "metadata": {},
   "outputs": [],
   "source": [
    "df_copy = df.copy()"
   ]
  },
  {
   "cell_type": "code",
   "execution_count": 34,
   "metadata": {},
   "outputs": [],
   "source": [
    "from gensim.models import Word2Vec\n",
    "w2vmodel = Word2Vec.load(\"word2vec/plp.w2v.model\")"
   ]
  },
  {
   "cell_type": "code",
   "execution_count": 35,
   "metadata": {},
   "outputs": [],
   "source": [
    "def get_contentVector(content):\n",
    "    cutWords = tokenizer.tokenize(content)\n",
    "    vector_list = [w2vmodel.wv[k] for k in cutWords if k in w2vmodel]\n",
    "    contentVector = np.array(vector_list).mean(axis=0)\n",
    "    return pd.Series(contentVector)"
   ]
  },
  {
   "cell_type": "code",
   "execution_count": 36,
   "metadata": {},
   "outputs": [
    {
     "name": "stderr",
     "output_type": "stream",
     "text": [
      "/Users/jiachenx/opt/anaconda3/envs/FakeReview/lib/python3.6/site-packages/ipykernel_launcher.py:3: DeprecationWarning: Call to deprecated `__contains__` (Method will be removed in 4.0.0, use self.wv.__contains__() instead).\n",
      "  This is separate from the ipykernel package so we can avoid doing imports until\n",
      "/Users/jiachenx/opt/anaconda3/envs/FakeReview/lib/python3.6/site-packages/ipykernel_launcher.py:4: RuntimeWarning: Mean of empty slice.\n",
      "  after removing the cwd from sys.path.\n"
     ]
    },
    {
     "data": {
      "text/html": [
       "<div>\n",
       "<style scoped>\n",
       "    .dataframe tbody tr th:only-of-type {\n",
       "        vertical-align: middle;\n",
       "    }\n",
       "\n",
       "    .dataframe tbody tr th {\n",
       "        vertical-align: top;\n",
       "    }\n",
       "\n",
       "    .dataframe thead th {\n",
       "        text-align: right;\n",
       "    }\n",
       "</style>\n",
       "<table border=\"1\" class=\"dataframe\">\n",
       "  <thead>\n",
       "    <tr style=\"text-align: right;\">\n",
       "      <th></th>\n",
       "      <th>0</th>\n",
       "      <th>1</th>\n",
       "      <th>2</th>\n",
       "      <th>3</th>\n",
       "      <th>4</th>\n",
       "      <th>5</th>\n",
       "      <th>6</th>\n",
       "      <th>7</th>\n",
       "      <th>8</th>\n",
       "      <th>9</th>\n",
       "      <th>...</th>\n",
       "      <th>90</th>\n",
       "      <th>91</th>\n",
       "      <th>92</th>\n",
       "      <th>93</th>\n",
       "      <th>94</th>\n",
       "      <th>95</th>\n",
       "      <th>96</th>\n",
       "      <th>97</th>\n",
       "      <th>98</th>\n",
       "      <th>99</th>\n",
       "    </tr>\n",
       "  </thead>\n",
       "  <tbody>\n",
       "    <tr>\n",
       "      <th>0</th>\n",
       "      <td>-0.244605</td>\n",
       "      <td>-0.259302</td>\n",
       "      <td>0.298896</td>\n",
       "      <td>0.013209</td>\n",
       "      <td>0.107174</td>\n",
       "      <td>0.016789</td>\n",
       "      <td>-0.110925</td>\n",
       "      <td>-0.221564</td>\n",
       "      <td>0.168517</td>\n",
       "      <td>-0.103666</td>\n",
       "      <td>...</td>\n",
       "      <td>0.231464</td>\n",
       "      <td>-0.156435</td>\n",
       "      <td>-0.251519</td>\n",
       "      <td>-0.283007</td>\n",
       "      <td>0.220843</td>\n",
       "      <td>-0.490651</td>\n",
       "      <td>0.297097</td>\n",
       "      <td>0.348498</td>\n",
       "      <td>-0.045630</td>\n",
       "      <td>0.508982</td>\n",
       "    </tr>\n",
       "    <tr>\n",
       "      <th>1</th>\n",
       "      <td>0.363722</td>\n",
       "      <td>-0.153034</td>\n",
       "      <td>0.163821</td>\n",
       "      <td>-0.136003</td>\n",
       "      <td>-0.160116</td>\n",
       "      <td>-0.218372</td>\n",
       "      <td>-0.297473</td>\n",
       "      <td>-0.646294</td>\n",
       "      <td>0.389066</td>\n",
       "      <td>0.069423</td>\n",
       "      <td>...</td>\n",
       "      <td>0.348690</td>\n",
       "      <td>-0.149966</td>\n",
       "      <td>0.559680</td>\n",
       "      <td>-0.204930</td>\n",
       "      <td>-0.054161</td>\n",
       "      <td>-0.551071</td>\n",
       "      <td>0.230384</td>\n",
       "      <td>0.340562</td>\n",
       "      <td>-0.236867</td>\n",
       "      <td>0.451799</td>\n",
       "    </tr>\n",
       "    <tr>\n",
       "      <th>2</th>\n",
       "      <td>-0.003254</td>\n",
       "      <td>-0.124854</td>\n",
       "      <td>-0.137098</td>\n",
       "      <td>-0.014423</td>\n",
       "      <td>-0.460808</td>\n",
       "      <td>-0.121931</td>\n",
       "      <td>-0.558479</td>\n",
       "      <td>0.242906</td>\n",
       "      <td>0.711618</td>\n",
       "      <td>-0.098454</td>\n",
       "      <td>...</td>\n",
       "      <td>0.177224</td>\n",
       "      <td>0.268653</td>\n",
       "      <td>-0.012598</td>\n",
       "      <td>0.160263</td>\n",
       "      <td>-0.382764</td>\n",
       "      <td>-0.820109</td>\n",
       "      <td>0.164957</td>\n",
       "      <td>0.279889</td>\n",
       "      <td>-0.153710</td>\n",
       "      <td>0.279360</td>\n",
       "    </tr>\n",
       "    <tr>\n",
       "      <th>3</th>\n",
       "      <td>0.007156</td>\n",
       "      <td>-0.254948</td>\n",
       "      <td>0.066335</td>\n",
       "      <td>0.072236</td>\n",
       "      <td>-0.046670</td>\n",
       "      <td>-0.087919</td>\n",
       "      <td>-0.305438</td>\n",
       "      <td>-0.271435</td>\n",
       "      <td>0.277427</td>\n",
       "      <td>-0.249265</td>\n",
       "      <td>...</td>\n",
       "      <td>0.142881</td>\n",
       "      <td>-0.015646</td>\n",
       "      <td>0.069136</td>\n",
       "      <td>-0.163269</td>\n",
       "      <td>0.022512</td>\n",
       "      <td>-0.515960</td>\n",
       "      <td>0.041584</td>\n",
       "      <td>0.367039</td>\n",
       "      <td>-0.243894</td>\n",
       "      <td>0.418173</td>\n",
       "    </tr>\n",
       "    <tr>\n",
       "      <th>4</th>\n",
       "      <td>0.002647</td>\n",
       "      <td>-0.365544</td>\n",
       "      <td>-0.085578</td>\n",
       "      <td>0.182371</td>\n",
       "      <td>-0.107872</td>\n",
       "      <td>0.020458</td>\n",
       "      <td>-0.445950</td>\n",
       "      <td>-0.329582</td>\n",
       "      <td>0.367194</td>\n",
       "      <td>-0.201117</td>\n",
       "      <td>...</td>\n",
       "      <td>0.083630</td>\n",
       "      <td>-0.027056</td>\n",
       "      <td>0.298724</td>\n",
       "      <td>-0.129631</td>\n",
       "      <td>-0.065105</td>\n",
       "      <td>-0.553074</td>\n",
       "      <td>-0.010449</td>\n",
       "      <td>0.475765</td>\n",
       "      <td>-0.338723</td>\n",
       "      <td>0.364671</td>\n",
       "    </tr>\n",
       "    <tr>\n",
       "      <th>...</th>\n",
       "      <td>...</td>\n",
       "      <td>...</td>\n",
       "      <td>...</td>\n",
       "      <td>...</td>\n",
       "      <td>...</td>\n",
       "      <td>...</td>\n",
       "      <td>...</td>\n",
       "      <td>...</td>\n",
       "      <td>...</td>\n",
       "      <td>...</td>\n",
       "      <td>...</td>\n",
       "      <td>...</td>\n",
       "      <td>...</td>\n",
       "      <td>...</td>\n",
       "      <td>...</td>\n",
       "      <td>...</td>\n",
       "      <td>...</td>\n",
       "      <td>...</td>\n",
       "      <td>...</td>\n",
       "      <td>...</td>\n",
       "      <td>...</td>\n",
       "    </tr>\n",
       "    <tr>\n",
       "      <th>26953</th>\n",
       "      <td>-0.189300</td>\n",
       "      <td>-0.309222</td>\n",
       "      <td>-0.128146</td>\n",
       "      <td>0.427264</td>\n",
       "      <td>0.461390</td>\n",
       "      <td>-0.125710</td>\n",
       "      <td>-0.555201</td>\n",
       "      <td>0.019302</td>\n",
       "      <td>0.228583</td>\n",
       "      <td>-0.079300</td>\n",
       "      <td>...</td>\n",
       "      <td>0.150752</td>\n",
       "      <td>0.294588</td>\n",
       "      <td>0.157999</td>\n",
       "      <td>-0.004382</td>\n",
       "      <td>-0.239729</td>\n",
       "      <td>-0.279730</td>\n",
       "      <td>0.060628</td>\n",
       "      <td>0.323661</td>\n",
       "      <td>-0.100624</td>\n",
       "      <td>0.468056</td>\n",
       "    </tr>\n",
       "    <tr>\n",
       "      <th>26954</th>\n",
       "      <td>-0.346050</td>\n",
       "      <td>-0.295365</td>\n",
       "      <td>0.091104</td>\n",
       "      <td>0.252665</td>\n",
       "      <td>-0.226341</td>\n",
       "      <td>0.115201</td>\n",
       "      <td>-0.161284</td>\n",
       "      <td>-0.261609</td>\n",
       "      <td>0.328573</td>\n",
       "      <td>-0.073579</td>\n",
       "      <td>...</td>\n",
       "      <td>0.182582</td>\n",
       "      <td>-0.000086</td>\n",
       "      <td>0.295041</td>\n",
       "      <td>0.257525</td>\n",
       "      <td>-0.150545</td>\n",
       "      <td>-0.764264</td>\n",
       "      <td>0.199143</td>\n",
       "      <td>0.367083</td>\n",
       "      <td>-0.039715</td>\n",
       "      <td>0.316847</td>\n",
       "    </tr>\n",
       "    <tr>\n",
       "      <th>26955</th>\n",
       "      <td>0.342980</td>\n",
       "      <td>-0.648976</td>\n",
       "      <td>0.017364</td>\n",
       "      <td>0.042128</td>\n",
       "      <td>0.221026</td>\n",
       "      <td>-0.200201</td>\n",
       "      <td>-0.397711</td>\n",
       "      <td>-0.421680</td>\n",
       "      <td>0.436884</td>\n",
       "      <td>-0.584024</td>\n",
       "      <td>...</td>\n",
       "      <td>0.177064</td>\n",
       "      <td>-0.350826</td>\n",
       "      <td>-0.057264</td>\n",
       "      <td>-0.103027</td>\n",
       "      <td>0.213166</td>\n",
       "      <td>-0.773751</td>\n",
       "      <td>0.002077</td>\n",
       "      <td>0.379957</td>\n",
       "      <td>-0.317643</td>\n",
       "      <td>0.392740</td>\n",
       "    </tr>\n",
       "    <tr>\n",
       "      <th>26956</th>\n",
       "      <td>-0.098249</td>\n",
       "      <td>-0.269928</td>\n",
       "      <td>0.334943</td>\n",
       "      <td>0.044579</td>\n",
       "      <td>-0.134724</td>\n",
       "      <td>-0.144153</td>\n",
       "      <td>-0.246980</td>\n",
       "      <td>-0.419075</td>\n",
       "      <td>0.540532</td>\n",
       "      <td>-0.305983</td>\n",
       "      <td>...</td>\n",
       "      <td>0.232736</td>\n",
       "      <td>-0.104704</td>\n",
       "      <td>0.244274</td>\n",
       "      <td>-0.037443</td>\n",
       "      <td>-0.128568</td>\n",
       "      <td>-0.419131</td>\n",
       "      <td>-0.073594</td>\n",
       "      <td>0.123329</td>\n",
       "      <td>-0.069586</td>\n",
       "      <td>0.445260</td>\n",
       "    </tr>\n",
       "    <tr>\n",
       "      <th>26957</th>\n",
       "      <td>-0.203996</td>\n",
       "      <td>-0.760963</td>\n",
       "      <td>0.189098</td>\n",
       "      <td>0.398042</td>\n",
       "      <td>0.973129</td>\n",
       "      <td>0.445408</td>\n",
       "      <td>-0.506473</td>\n",
       "      <td>-0.558289</td>\n",
       "      <td>0.285902</td>\n",
       "      <td>-0.196837</td>\n",
       "      <td>...</td>\n",
       "      <td>0.669261</td>\n",
       "      <td>-0.514394</td>\n",
       "      <td>0.077783</td>\n",
       "      <td>-0.621364</td>\n",
       "      <td>0.219026</td>\n",
       "      <td>-0.412271</td>\n",
       "      <td>0.918799</td>\n",
       "      <td>0.459974</td>\n",
       "      <td>0.091781</td>\n",
       "      <td>0.181087</td>\n",
       "    </tr>\n",
       "  </tbody>\n",
       "</table>\n",
       "<p>26958 rows × 100 columns</p>\n",
       "</div>"
      ],
      "text/plain": [
       "             0         1         2         3         4         5         6   \\\n",
       "0     -0.244605 -0.259302  0.298896  0.013209  0.107174  0.016789 -0.110925   \n",
       "1      0.363722 -0.153034  0.163821 -0.136003 -0.160116 -0.218372 -0.297473   \n",
       "2     -0.003254 -0.124854 -0.137098 -0.014423 -0.460808 -0.121931 -0.558479   \n",
       "3      0.007156 -0.254948  0.066335  0.072236 -0.046670 -0.087919 -0.305438   \n",
       "4      0.002647 -0.365544 -0.085578  0.182371 -0.107872  0.020458 -0.445950   \n",
       "...         ...       ...       ...       ...       ...       ...       ...   \n",
       "26953 -0.189300 -0.309222 -0.128146  0.427264  0.461390 -0.125710 -0.555201   \n",
       "26954 -0.346050 -0.295365  0.091104  0.252665 -0.226341  0.115201 -0.161284   \n",
       "26955  0.342980 -0.648976  0.017364  0.042128  0.221026 -0.200201 -0.397711   \n",
       "26956 -0.098249 -0.269928  0.334943  0.044579 -0.134724 -0.144153 -0.246980   \n",
       "26957 -0.203996 -0.760963  0.189098  0.398042  0.973129  0.445408 -0.506473   \n",
       "\n",
       "             7         8         9   ...        90        91        92  \\\n",
       "0     -0.221564  0.168517 -0.103666  ...  0.231464 -0.156435 -0.251519   \n",
       "1     -0.646294  0.389066  0.069423  ...  0.348690 -0.149966  0.559680   \n",
       "2      0.242906  0.711618 -0.098454  ...  0.177224  0.268653 -0.012598   \n",
       "3     -0.271435  0.277427 -0.249265  ...  0.142881 -0.015646  0.069136   \n",
       "4     -0.329582  0.367194 -0.201117  ...  0.083630 -0.027056  0.298724   \n",
       "...         ...       ...       ...  ...       ...       ...       ...   \n",
       "26953  0.019302  0.228583 -0.079300  ...  0.150752  0.294588  0.157999   \n",
       "26954 -0.261609  0.328573 -0.073579  ...  0.182582 -0.000086  0.295041   \n",
       "26955 -0.421680  0.436884 -0.584024  ...  0.177064 -0.350826 -0.057264   \n",
       "26956 -0.419075  0.540532 -0.305983  ...  0.232736 -0.104704  0.244274   \n",
       "26957 -0.558289  0.285902 -0.196837  ...  0.669261 -0.514394  0.077783   \n",
       "\n",
       "             93        94        95        96        97        98        99  \n",
       "0     -0.283007  0.220843 -0.490651  0.297097  0.348498 -0.045630  0.508982  \n",
       "1     -0.204930 -0.054161 -0.551071  0.230384  0.340562 -0.236867  0.451799  \n",
       "2      0.160263 -0.382764 -0.820109  0.164957  0.279889 -0.153710  0.279360  \n",
       "3     -0.163269  0.022512 -0.515960  0.041584  0.367039 -0.243894  0.418173  \n",
       "4     -0.129631 -0.065105 -0.553074 -0.010449  0.475765 -0.338723  0.364671  \n",
       "...         ...       ...       ...       ...       ...       ...       ...  \n",
       "26953 -0.004382 -0.239729 -0.279730  0.060628  0.323661 -0.100624  0.468056  \n",
       "26954  0.257525 -0.150545 -0.764264  0.199143  0.367083 -0.039715  0.316847  \n",
       "26955 -0.103027  0.213166 -0.773751  0.002077  0.379957 -0.317643  0.392740  \n",
       "26956 -0.037443 -0.128568 -0.419131 -0.073594  0.123329 -0.069586  0.445260  \n",
       "26957 -0.621364  0.219026 -0.412271  0.918799  0.459974  0.091781  0.181087  \n",
       "\n",
       "[26958 rows x 100 columns]"
      ]
     },
     "execution_count": 36,
     "metadata": {},
     "output_type": "execute_result"
    }
   ],
   "source": [
    "train_data_features = df_copy.reviewContent.apply(get_contentVector)\n",
    "train_data_features"
   ]
  },
  {
   "cell_type": "code",
   "execution_count": 37,
   "metadata": {},
   "outputs": [],
   "source": [
    "df_copy = pd.concat([df_copy,train_data_features], axis=1)"
   ]
  },
  {
   "cell_type": "code",
   "execution_count": 38,
   "metadata": {},
   "outputs": [
    {
     "name": "stdout",
     "output_type": "stream",
     "text": [
      "Feature Engineering: Creating New Features\n"
     ]
    }
   ],
   "source": [
    "print(\"Feature Engineering: Creating New Features\")\n",
    "# Maximum Number of Reviews per month per reviewer\n",
    "mnr_df1 = df_copy[['reviewerID', 'date']].copy()\n",
    "mnr_df2 = mnr_df1.groupby(by=['date', 'reviewerID']).size().reset_index(name='mnr')\n",
    "mnr_df2['mnr'] = mnr_df2['mnr'] / mnr_df2['mnr'].max()\n",
    "df_copy = df_copy.merge(mnr_df2, on=['reviewerID', 'date'], how='inner')\n",
    "\n",
    "# Review Length\n",
    "df_copy['rl'] = df_copy['reviewContent'].apply(\n",
    "    lambda x: len(x.split()))\n",
    "\n",
    "# Review Deviation\n",
    "df_copy['rd'] = abs(df_copy['rating'] - df_copy['restaurantRating']) / 4"
   ]
  },
  {
   "cell_type": "code",
   "execution_count": 39,
   "metadata": {},
   "outputs": [
    {
     "name": "stderr",
     "output_type": "stream",
     "text": [
      "/Users/jiachenx/opt/anaconda3/envs/FakeReview/lib/python3.6/site-packages/ipykernel_launcher.py:14: DeprecationWarning: The default dtype for empty Series will be 'object' instead of 'float64' in a future version. Specify a dtype explicitly to silence this warning.\n",
      "  \n",
      "/Users/jiachenx/opt/anaconda3/envs/FakeReview/lib/python3.6/site-packages/ipykernel_launcher.py:15: DeprecationWarning: The default dtype for empty Series will be 'object' instead of 'float64' in a future version. Specify a dtype explicitly to silence this warning.\n",
      "  from ipykernel import kernelapp as app\n"
     ]
    },
    {
     "name": "stdout",
     "output_type": "stream",
     "text": [
      "Feature Engineering Complete\n"
     ]
    }
   ],
   "source": [
    "# Maximum cosine similarity\n",
    "review_data = df_copy\n",
    "\n",
    "res = OrderedDict()\n",
    "\n",
    "for row in review_data.iterrows():\n",
    "    if row[1].reviewerID in res:\n",
    "        res[row[1].reviewerID].append(row[1].reviewContent)\n",
    "    else:\n",
    "        res[row[1].reviewerID] = [row[1].reviewContent]\n",
    "\n",
    "individual_reviewer = [{'reviewerID': k, 'reviewContent': v} for k, v in res.items()]\n",
    "df2 = dict()\n",
    "df2['reviewerID'] = pd.Series([])\n",
    "df2['Maximum Content Similarity'] = pd.Series([])\n",
    "vector = TfidfVectorizer(min_df=0)\n",
    "count = -1\n",
    "for reviewer_data in individual_reviewer:\n",
    "    count = count + 1\n",
    "    try:\n",
    "        tfidf = vector.fit_transform(reviewer_data['reviewContent'])\n",
    "    except:\n",
    "        pass\n",
    "    cosine = 1 - pairwise_distances(tfidf, metric='cosine')\n",
    "\n",
    "    np.fill_diagonal(cosine, -np.inf)\n",
    "    max = cosine.max()\n",
    "\n",
    "    if max == -np.inf:\n",
    "        max = 0\n",
    "    df2['reviewerID'][count] = reviewer_data['reviewerID']\n",
    "    df2['Maximum Content Similarity'][count] = max\n",
    "\n",
    "df3 = pd.DataFrame(df2, columns=['reviewerID', 'Maximum Content Similarity'])\n",
    "\n",
    "df_copy = pd.merge(review_data, df3, on=\"reviewerID\", how=\"left\")\n",
    "\n",
    "df_copy.drop(index=np.where(pd.isnull(df_copy))[0], axis=0, inplace=True)\n",
    "print(\"Feature Engineering Complete\")"
   ]
  },
  {
   "cell_type": "code",
   "execution_count": 40,
   "metadata": {},
   "outputs": [
    {
     "name": "stdout",
     "output_type": "stream",
     "text": [
      "Under-Sampling Data\n",
      "Authentic 14940\n",
      "Fake 4467\n"
     ]
    },
    {
     "data": {
      "image/png": "[encoded data removed]",
      "text/plain": [
       "<Figure size 432x288 with 1 Axes>"
      ]
     },
     "metadata": {
      "needs_background": "light"
     },
     "output_type": "display_data"
    },
    {
     "name": "stdout",
     "output_type": "stream",
     "text": [
      "Under-Sampled Fake 4467\n",
      "Under-Sampled Authentic 4467\n"
     ]
    },
    {
     "data": {
      "image/png": "[encoded data removed]",
      "text/plain": [
       "<Figure size 432x288 with 1 Axes>"
      ]
     },
     "metadata": {
      "needs_background": "light"
     },
     "output_type": "display_data"
    },
    {
     "name": "stdout",
     "output_type": "stream",
     "text": [
      "Under-Sampling Complete\n"
     ]
    }
   ],
   "source": [
    "_df_copy = df_copy.copy()\n",
    "labels = _df_copy['flagged']\n",
    "\n",
    "_df_copy.drop(['reviewID', 'reviewerID', 'restaurantID', 'date', 'name', 'location', 'yelpJoinDate', 'flagged','restaurantRating',\n",
    "         'friendCount','firstCount','usefulCount','coolCount','funnyCount','complimentCount','tipCount','fanCount'], axis=1, inplace=True)\n",
    "\n",
    "train_data, test_data, train_label, test_label = train_test_split(_df_copy, labels,\n",
    "                                                                  stratify = labels,\n",
    "                                                                  test_size=0.2, random_state=42)\n",
    "train_data, valid_data, train_label, valid_label = train_test_split(train_data, \n",
    "                                                                    train_label,\n",
    "                                                                    stratify = train_label,\n",
    "                                                                    test_size=0.1, \n",
    "                                                                    random_state=42)\n",
    "test_dataset = pd.concat([test_data,test_label],axis=1)\n",
    "test_dataset.to_csv(\"data/self_model/test.csv\",index=False)\n",
    "valid_dataset = pd.concat([valid_data,valid_label],axis=1)\n",
    "valid_dataset.to_csv(\"data/self_model/valid.csv\",index=False)\n",
    "\n",
    "train_dataset = pd.concat([train_data,train_label],axis=1)\n",
    "\n",
    "train_dataset = under_sampling(train_dataset)\n",
    "train_dataset.to_csv(\"data/self_model/train.csv\",index=False)"
   ]
  },
  {
   "cell_type": "code",
   "execution_count": 41,
   "metadata": {},
   "outputs": [
    {
     "name": "stdout",
     "output_type": "stream",
     "text": [
      "Under-Sampling Data\n",
      "Authentic 14940\n",
      "Fake 4467\n"
     ]
    },
    {
     "data": {
      "image/png": "[encoded data removed]",
      "text/plain": [
       "<Figure size 432x288 with 1 Axes>"
      ]
     },
     "metadata": {
      "needs_background": "light"
     },
     "output_type": "display_data"
    },
    {
     "name": "stdout",
     "output_type": "stream",
     "text": [
      "Under-Sampled Fake 4467\n",
      "Under-Sampled Authentic 4467\n"
     ]
    },
    {
     "data": {
      "image/png": "[encoded data removed]",
      "text/plain": [
       "<Figure size 432x288 with 1 Axes>"
      ]
     },
     "metadata": {
      "needs_background": "light"
     },
     "output_type": "display_data"
    },
    {
     "name": "stdout",
     "output_type": "stream",
     "text": [
      "Under-Sampling Complete\n"
     ]
    }
   ],
   "source": [
    "_df_copy = df_copy.copy()\n",
    "\n",
    "labels = _df_copy['flagged']\n",
    "\n",
    "_df_copy.drop(['reviewID', 'reviewerID', 'restaurantID', 'date', 'name', 'location', 'yelpJoinDate', 'flagged','restaurantRating',\n",
    "         'friendCount','firstCount','usefulCount','coolCount','funnyCount','complimentCount','tipCount','fanCount',\n",
    "        'rating','reviewUsefulCount','mnr','rl','rd','Maximum Content Similarity'], axis=1, inplace=True)\n",
    "\n",
    "train_data, test_data, train_label, test_label = train_test_split(_df_copy, labels,\n",
    "                                                                  stratify = labels,\n",
    "                                                                  test_size=0.2, random_state=42)\n",
    "train_data, valid_data, train_label, valid_label = train_test_split(train_data, \n",
    "                                                                    train_label,\n",
    "                                                                    stratify = train_label,\n",
    "                                                                    test_size=0.1, \n",
    "                                                                    random_state=42)\n",
    "test_dataset = pd.concat([test_data,test_label],axis=1)\n",
    "test_dataset.to_csv(\"data/self_model/test_no_bf.csv\",index=False)\n",
    "valid_dataset = pd.concat([valid_data,valid_label],axis=1)\n",
    "valid_dataset.to_csv(\"data/self_model/valid_no_bf.csv\",index=False)\n",
    "\n",
    "train_dataset = pd.concat([train_data,train_label],axis=1)\n",
    "\n",
    "train_dataset = under_sampling(train_dataset)\n",
    "train_dataset.to_csv(\"data/self_model/train_no_bf.csv\",index=False)"
   ]
  },
  {
   "cell_type": "code",
   "execution_count": 42,
   "metadata": {},
   "outputs": [
    {
     "name": "stdout",
     "output_type": "stream",
     "text": [
      "Under-Sampling Data\n",
      "Authentic 14940\n",
      "Fake 4467\n"
     ]
    },
    {
     "data": {
      "image/png": "[encoded data removed]",
      "text/plain": [
       "<Figure size 432x288 with 1 Axes>"
      ]
     },
     "metadata": {
      "needs_background": "light"
     },
     "output_type": "display_data"
    },
    {
     "name": "stdout",
     "output_type": "stream",
     "text": [
      "Under-Sampled Fake 4467\n",
      "Under-Sampled Authentic 4467\n"
     ]
    },
    {
     "data": {
      "image/png": "[encoded data removed]",
      "text/plain": [
       "<Figure size 432x288 with 1 Axes>"
      ]
     },
     "metadata": {
      "needs_background": "light"
     },
     "output_type": "display_data"
    },
    {
     "name": "stdout",
     "output_type": "stream",
     "text": [
      "Under-Sampling Complete\n"
     ]
    }
   ],
   "source": [
    "_df_copy = df_copy.copy()\n",
    "\n",
    "labels = _df_copy['flagged']\n",
    "\n",
    "_df_copy = _df_copy.filter(regex=(\"^[a-zA-Z]\"))\n",
    "\n",
    "_df_copy.drop(['reviewID', 'reviewerID', 'restaurantID', 'date', 'name', 'location', 'yelpJoinDate', 'flagged','restaurantRating',\n",
    "         'friendCount','firstCount','usefulCount','coolCount','funnyCount','complimentCount','tipCount','fanCount'], axis=1, inplace=True)\n",
    "\n",
    "train_data, test_data, train_label, test_label = train_test_split(_df_copy, labels,\n",
    "                                                                  stratify = labels,\n",
    "                                                                  test_size=0.2, random_state=42)\n",
    "train_data, valid_data, train_label, valid_label = train_test_split(train_data, \n",
    "                                                                    train_label,\n",
    "                                                                    stratify = train_label,\n",
    "                                                                    test_size=0.1, \n",
    "                                                                    random_state=42)\n",
    "test_dataset = pd.concat([test_data,test_label],axis=1)\n",
    "test_dataset.to_csv(\"data/self_model/test_bf.csv\",index=False)\n",
    "valid_dataset = pd.concat([valid_data,valid_label],axis=1)\n",
    "valid_dataset.to_csv(\"data/self_model/valid_bf.csv\",index=False)\n",
    "\n",
    "train_dataset = pd.concat([train_data,train_label],axis=1)\n",
    "\n",
    "train_dataset = under_sampling(train_dataset)\n",
    "train_dataset.to_csv(\"data/self_model/train_bf.csv\",index=False)"
   ]
  }
 ],
 "metadata": {
  "file_extension": ".py",
  "kernelspec": {
   "display_name": "Python 3.6.10 64-bit ('FakeReview': conda)",
   "language": "python",
   "name": "python361064bitfakereviewconda1082ec436de54e2bac19ac17aaed50d5"
  },
  "language_info": {
   "codemirror_mode": {
    "name": "ipython",
    "version": 3
   },
   "file_extension": ".py",
   "mimetype": "text/x-python",
   "name": "python",
   "nbconvert_exporter": "python",
   "pygments_lexer": "ipython3",
   "version": "3.6.10"
  },
  "mimetype": "text/x-python",
  "name": "python",
  "npconvert_exporter": "python",
  "pygments_lexer": "ipython3",
  "version": 3
 },
 "nbformat": 4,
 "nbformat_minor": 2
}
