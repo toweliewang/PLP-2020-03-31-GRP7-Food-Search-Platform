{
 "cells": [
  {
   "cell_type": "code",
   "execution_count": 1,
   "metadata": {},
   "outputs": [
    {
     "data": {
      "text/html": [
       "<style> table {float:left} </style>\n"
      ],
      "text/plain": [
       "<IPython.core.display.HTML object>"
      ]
     },
     "metadata": {},
     "output_type": "display_data"
    }
   ],
   "source": [
    "%%html\n",
    "<style> table {float:left} </style>"
   ]
  },
  {
   "cell_type": "code",
   "execution_count": 2,
   "metadata": {},
   "outputs": [],
   "source": [
    "import sqlite3\n",
    "import pandas as pd\n",
    "from nltk.corpus import stopwords\n",
    "from nltk.tokenize import RegexpTokenizer\n",
    "from datetime import datetime\n",
    "import numpy as np\n",
    "from sklearn.ensemble import RandomForestClassifier\n",
    "from sklearn.feature_extraction.text import TfidfVectorizer\n",
    "from sklearn.model_selection import train_test_split\n",
    "from time import time\n",
    "from sklearn.naive_bayes import GaussianNB\n",
    "from sklearn.metrics import accuracy_score, recall_score, precision_score, f1_score, pairwise_distances\n",
    "from sklearn.metrics import confusion_matrix\n",
    "from collections import OrderedDict\n",
    "from sklearn.model_selection import GridSearchCV\n",
    "import matplotlib.pyplot as plt\n",
    "import seaborn as sns\n",
    "from tqdm.notebook import tqdm\n",
    "import pickle\n",
    "\n",
    "pd.options.mode.chained_assignment = None"
   ]
  },
  {
   "cell_type": "code",
   "execution_count": 3,
   "metadata": {},
   "outputs": [],
   "source": [
    "# only BF pretrained "
   ]
  },
  {
   "cell_type": "code",
   "execution_count": 4,
   "metadata": {},
   "outputs": [],
   "source": [
    "def plot_confusion_matrix(y_true, y_pred, classes, title=None, cmap=plt.cm.Blues):\n",
    "    # Compute confusion matrix\n",
    "    cm = confusion_matrix(y_true, y_pred)\n",
    "    # Only use the labels that appear in the data\n",
    "\n",
    "    fig, ax = plt.subplots()\n",
    "    im = ax.imshow(cm, interpolation='nearest', cmap=cmap)\n",
    "    ax.figure.colorbar(im, ax=ax)\n",
    "    # We want to show all ticks...\n",
    "    ax.set(xticks=np.arange(cm.shape[1]),\n",
    "           yticks=np.arange(cm.shape[0]),\n",
    "           xticklabels=classes,\n",
    "           yticklabels=classes,\n",
    "           title=title,\n",
    "           ylabel='True label',\n",
    "           xlabel='Predicted label')\n",
    "\n",
    "    # Rotate the tick labels and set their alignment.\n",
    "    plt.setp(ax.get_xticklabels(), rotation=45, ha=\"right\",\n",
    "             rotation_mode=\"anchor\")\n",
    "\n",
    "    # Loop over data dimensions and create text annotations.\n",
    "    fmt = 'd'\n",
    "    thresh = cm.max() / 2.\n",
    "    for i in range(cm.shape[0]):\n",
    "        for j in range(cm.shape[1]):\n",
    "            ax.text(j, i, format(cm[i, j], fmt),\n",
    "                    ha=\"center\", va=\"center\",\n",
    "                    color=\"white\" if cm[i, j] > thresh else \"black\")\n",
    "    fig.tight_layout()\n",
    "\n",
    "    return plt"
   ]
  },
  {
   "cell_type": "code",
   "execution_count": 5,
   "metadata": {},
   "outputs": [],
   "source": [
    "def supervised_learning(train_data,valid_data,test_data,model,algorithm,threshold=0.8, iterations=40):\n",
    "    print(\"Training \"+algorithm+\" Model\")\n",
    "    _train_labels = train_data['flagged']\n",
    "    _train_data = train_data.drop(['flagged','reviewContent'], axis=1)\n",
    "    _valid_labels = valid_data['flagged']\n",
    "    _valid_data = valid_data.drop(['flagged','reviewContent'], axis=1)\n",
    "    _test_labels = test_data['flagged']\n",
    "    _test_data = test_data.drop(['flagged','reviewContent'], axis=1)\n",
    "\n",
    "    model.fit(_train_data, _train_labels)\n",
    "    predicted_labels = model.predict(_test_data)\n",
    "\n",
    "    # print('Best Params : ', grid_clf_acc.best_params_)\n",
    "    print(algorithm + ' Model Results')\n",
    "    print('Accuracy Score : ' + str(accuracy_score(_test_labels, predicted_labels)))\n",
    "    print('Precision Score : ' + str(precision_score(_test_labels, predicted_labels, pos_label=\"Y\")))\n",
    "    print('Recall Score : ' + str(recall_score(_test_labels, predicted_labels, pos_label=\"Y\")))\n",
    "    print('F1 Score : ' + str(f1_score(_test_labels, predicted_labels, pos_label=\"Y\")))\n",
    "    print('Confusion Matrix : \\n' + str(confusion_matrix(_test_labels, predicted_labels)))\n",
    "    plot_confusion_matrix(_test_labels, predicted_labels, classes=['N', 'Y'],\n",
    "                          title=algorithm + ' Confusion Matrix').show()\n",
    "    \n",
    "    return model"
   ]
  },
  {
   "cell_type": "markdown",
   "metadata": {},
   "source": [
    "### Pretrained"
   ]
  },
  {
   "cell_type": "code",
   "execution_count": 6,
   "metadata": {},
   "outputs": [],
   "source": [
    "#with bf no sample"
   ]
  },
  {
   "cell_type": "code",
   "execution_count": 7,
   "metadata": {},
   "outputs": [],
   "source": [
    "train_data = pd.read_csv(\"../data/pretrained_model/train_no_sampled.csv\")\n",
    "valid_data = pd.read_csv(\"../data/pretrained_model/valid_no_sampled.csv\")\n",
    "test_data = pd.read_csv(\"../data/pretrained_model/test_no_sampled.csv\")"
   ]
  },
  {
   "cell_type": "code",
   "execution_count": 8,
   "metadata": {},
   "outputs": [
    {
     "name": "stdout",
     "output_type": "stream",
     "text": [
      "Training Random Forest Model\n",
      "Random Forest Model Results\n",
      "Accuracy Score : 0.8558708959376738\n",
      "Precision Score : 0.7362525458248472\n",
      "Recall Score : 0.5825946817082998\n",
      "F1 Score : 0.650472334682861\n",
      "Confusion Matrix : \n",
      "[[3891  259]\n",
      " [ 518  723]]\n"
     ]
    },
    {
     "data": {
      "image/png": "[encoded data removed]",
      "text/plain": [
       "<Figure size 432x288 with 2 Axes>"
      ]
     },
     "metadata": {
      "needs_background": "light"
     },
     "output_type": "display_data"
    }
   ],
   "source": [
    "rf = RandomForestClassifier(random_state=42, criterion='entropy', max_depth=14, max_features='auto',\n",
    "                                n_estimators=500)\n",
    "\n",
    "model = supervised_learning(train_data,valid_data,test_data, model=rf, threshold=0.7,\n",
    "                                 iterations=15, \n",
    "                                 algorithm='Random Forest')\n",
    "with open('../models/sl/random_forest_model_no_sample.pickle', 'wb') as f:\n",
    "    pickle.dump(model, f)"
   ]
  },
  {
   "cell_type": "code",
   "execution_count": 9,
   "metadata": {},
   "outputs": [],
   "source": [
    "#with bf"
   ]
  },
  {
   "cell_type": "code",
   "execution_count": 10,
   "metadata": {},
   "outputs": [],
   "source": [
    "train_data = pd.read_csv(\"../data/pretrained_model/train.csv\")\n",
    "valid_data = pd.read_csv(\"../data/pretrained_model/valid.csv\")\n",
    "test_data = pd.read_csv(\"../data/pretrained_model/test.csv\")"
   ]
  },
  {
   "cell_type": "code",
   "execution_count": 11,
   "metadata": {},
   "outputs": [
    {
     "name": "stdout",
     "output_type": "stream",
     "text": [
      "Training Random Forest Model\n",
      "Random Forest Model Results\n",
      "Accuracy Score : 0.8217399369319236\n",
      "Precision Score : 0.5705645161290323\n",
      "Recall Score : 0.9121676067687349\n",
      "F1 Score : 0.7020155038759691\n",
      "Confusion Matrix : \n",
      "[[3298  852]\n",
      " [ 109 1132]]\n"
     ]
    },
    {
     "data": {
      "image/png": "[encoded data removed]",
      "text/plain": [
       "<Figure size 432x288 with 2 Axes>"
      ]
     },
     "metadata": {
      "needs_background": "light"
     },
     "output_type": "display_data"
    }
   ],
   "source": [
    "rf = RandomForestClassifier(random_state=42, criterion='entropy', max_depth=14, max_features='auto',\n",
    "                                n_estimators=500)\n",
    "\n",
    "model = supervised_learning(train_data,valid_data,test_data, model=rf, threshold=0.7,\n",
    "                                 iterations=15, \n",
    "                                 algorithm='Random Forest')\n",
    "\n",
    "with open('../models/sl/random_forest_model_all.pickle', 'wb') as f:\n",
    "    pickle.dump(model, f)"
   ]
  },
  {
   "cell_type": "code",
   "execution_count": 12,
   "metadata": {},
   "outputs": [],
   "source": [
    "# only word2vec"
   ]
  },
  {
   "cell_type": "code",
   "execution_count": 13,
   "metadata": {},
   "outputs": [],
   "source": [
    "train_data = pd.read_csv(\"../data/pretrained_model/train_no_bf.csv\")\n",
    "valid_data = pd.read_csv(\"../data/pretrained_model/valid_no_bf.csv\")\n",
    "test_data = pd.read_csv(\"../data/pretrained_model/test_no_bf.csv\")"
   ]
  },
  {
   "cell_type": "code",
   "execution_count": 14,
   "metadata": {},
   "outputs": [
    {
     "name": "stdout",
     "output_type": "stream",
     "text": [
      "Training Random Forest Model\n",
      "Random Forest Model Results\n",
      "Accuracy Score : 0.7890929326655537\n",
      "Precision Score : 0.5248328557784145\n",
      "Recall Score : 0.8855761482675262\n",
      "F1 Score : 0.6590704647676162\n",
      "Confusion Matrix : \n",
      "[[3155  995]\n",
      " [ 142 1099]]\n"
     ]
    },
    {
     "data": {
      "image/png": "[encoded data removed]",
      "text/plain": [
       "<Figure size 432x288 with 2 Axes>"
      ]
     },
     "metadata": {
      "needs_background": "light"
     },
     "output_type": "display_data"
    }
   ],
   "source": [
    "rf = RandomForestClassifier(random_state=42, criterion='entropy', max_depth=14, max_features='auto',\n",
    "                                n_estimators=500)\n",
    "\n",
    "model = supervised_learning(train_data,valid_data,test_data, model=rf, threshold=0.7,\n",
    "                                 iterations=15, \n",
    "                                 algorithm='Random Forest')\n",
    "\n",
    "with open('../models/sl/random_forest_model_word2vec.pickle', 'wb') as f:\n",
    "    pickle.dump(model, f)"
   ]
  },
  {
   "cell_type": "code",
   "execution_count": 15,
   "metadata": {},
   "outputs": [],
   "source": [
    "# only bf"
   ]
  },
  {
   "cell_type": "code",
   "execution_count": 16,
   "metadata": {},
   "outputs": [],
   "source": [
    "train_data = pd.read_csv(\"../data/pretrained_model/train_bf.csv\")\n",
    "valid_data = pd.read_csv(\"../data/pretrained_model/valid_bf.csv\")\n",
    "test_data = pd.read_csv(\"../data/pretrained_model/test_bf.csv\")"
   ]
  },
  {
   "cell_type": "code",
   "execution_count": 17,
   "metadata": {},
   "outputs": [
    {
     "name": "stdout",
     "output_type": "stream",
     "text": [
      "Training Random Forest Model\n",
      "Random Forest Model Results\n",
      "Accuracy Score : 0.8274902615470228\n",
      "Precision Score : 0.5798664612223934\n",
      "Recall Score : 0.9097502014504432\n",
      "F1 Score : 0.7082810539523212\n",
      "Confusion Matrix : \n",
      "[[3332  818]\n",
      " [ 112 1129]]\n"
     ]
    },
    {
     "data": {
      "image/png": "[encoded data removed]",
      "text/plain": [
       "<Figure size 432x288 with 2 Axes>"
      ]
     },
     "metadata": {
      "needs_background": "light"
     },
     "output_type": "display_data"
    }
   ],
   "source": [
    "rf = RandomForestClassifier(random_state=42, criterion='entropy', max_depth=14, max_features='auto',\n",
    "                                n_estimators=500)\n",
    "\n",
    "model = supervised_learning(train_data,valid_data,test_data, model=rf, threshold=0.7,\n",
    "                                 iterations=15, \n",
    "                                 algorithm='Random Forest')\n",
    "\n",
    "with open('../models/sl/random_forest_model_bf.pickle', 'wb') as f:\n",
    "    pickle.dump(model, f)"
   ]
  },
  {
   "cell_type": "markdown",
   "metadata": {},
   "source": [
    "### Self model"
   ]
  },
  {
   "cell_type": "code",
   "execution_count": 18,
   "metadata": {},
   "outputs": [],
   "source": [
    "train_data = pd.read_csv(\"../data/self_model/train.csv\")\n",
    "valid_data = pd.read_csv(\"../data/self_model/valid.csv\")\n",
    "test_data = pd.read_csv(\"../data/self_model/test.csv\")"
   ]
  },
  {
   "cell_type": "code",
   "execution_count": 19,
   "metadata": {},
   "outputs": [
    {
     "name": "stdout",
     "output_type": "stream",
     "text": [
      "Training Random Forest Model\n",
      "Random Forest Model Results\n",
      "Accuracy Score : 0.8196994991652755\n",
      "Precision Score : 0.5665512122711529\n",
      "Recall Score : 0.9226430298146656\n",
      "F1 Score : 0.7020232985898223\n",
      "Confusion Matrix : \n",
      "[[3274  876]\n",
      " [  96 1145]]\n"
     ]
    },
    {
     "data": {
      "image/png": "[encoded data removed]",
      "text/plain": [
       "<Figure size 432x288 with 2 Axes>"
      ]
     },
     "metadata": {
      "needs_background": "light"
     },
     "output_type": "display_data"
    }
   ],
   "source": [
    "rf = RandomForestClassifier(random_state=42, criterion='entropy', max_depth=14, max_features='auto',\n",
    "                                n_estimators=500)\n",
    "\n",
    "model = supervised_learning(train_data,valid_data,test_data, model=rf, threshold=0.7,\n",
    "                                 iterations=15, \n",
    "                                 algorithm='Random Forest')\n",
    "\n",
    "with open('../models/sl/random_forest_model_s_all.pickle', 'wb') as f:\n",
    "    pickle.dump(model, f)"
   ]
  },
  {
   "cell_type": "code",
   "execution_count": null,
   "metadata": {},
   "outputs": [],
   "source": []
  },
  {
   "cell_type": "code",
   "execution_count": null,
   "metadata": {},
   "outputs": [],
   "source": []
  },
  {
   "cell_type": "code",
   "execution_count": 20,
   "metadata": {},
   "outputs": [],
   "source": [
    "train_data = pd.read_csv(\"../data/self_model/train_no_bf.csv\")\n",
    "valid_data = pd.read_csv(\"../data/self_model/valid_no_bf.csv\")\n",
    "test_data = pd.read_csv(\"../data/self_model/test_no_bf.csv\")"
   ]
  },
  {
   "cell_type": "code",
   "execution_count": 21,
   "metadata": {},
   "outputs": [
    {
     "name": "stdout",
     "output_type": "stream",
     "text": [
      "Training Random Forest Model\n",
      "Random Forest Model Results\n",
      "Accuracy Score : 0.7905768874049341\n",
      "Precision Score : 0.5268714011516314\n",
      "Recall Score : 0.8847703464947623\n",
      "F1 Score : 0.6604511278195488\n",
      "Confusion Matrix : \n",
      "[[3164  986]\n",
      " [ 143 1098]]\n"
     ]
    },
    {
     "data": {
      "image/png": "[encoded data removed]",
      "text/plain": [
       "<Figure size 432x288 with 2 Axes>"
      ]
     },
     "metadata": {
      "needs_background": "light"
     },
     "output_type": "display_data"
    }
   ],
   "source": [
    "rf = RandomForestClassifier(random_state=42, criterion='entropy', max_depth=14, max_features='auto',\n",
    "                                n_estimators=500)\n",
    "\n",
    "model = supervised_learning(train_data,valid_data,test_data, model=rf, threshold=0.7,\n",
    "                                 iterations=15, \n",
    "                                 algorithm='Random Forest')\n",
    "\n",
    "with open('../models/sl/random_forest_model_s_word2vec.pickle', 'wb') as f:\n",
    "    pickle.dump(model, f)"
   ]
  },
  {
   "cell_type": "code",
   "execution_count": null,
   "metadata": {},
   "outputs": [],
   "source": []
  },
  {
   "cell_type": "code",
   "execution_count": 22,
   "metadata": {},
   "outputs": [],
   "source": [
    "train_data = pd.read_csv(\"../data/self_model/train_bf.csv\")\n",
    "valid_data = pd.read_csv(\"../data/self_model/valid_bf.csv\")\n",
    "test_data = pd.read_csv(\"../data/self_model/test_bf.csv\")"
   ]
  },
  {
   "cell_type": "code",
   "execution_count": 23,
   "metadata": {},
   "outputs": [
    {
     "name": "stdout",
     "output_type": "stream",
     "text": [
      "Training Random Forest Model\n",
      "Random Forest Model Results\n",
      "Accuracy Score : 0.824522352068262\n",
      "Precision Score : 0.5748351090816844\n",
      "Recall Score : 0.9129734085414988\n",
      "F1 Score : 0.7054794520547946\n",
      "Confusion Matrix : \n",
      "[[3312  838]\n",
      " [ 108 1133]]\n"
     ]
    },
    {
     "data": {
      "image/png": "[encoded data removed]",
      "text/plain": [
       "<Figure size 432x288 with 2 Axes>"
      ]
     },
     "metadata": {
      "needs_background": "light"
     },
     "output_type": "display_data"
    }
   ],
   "source": [
    "rf = RandomForestClassifier(random_state=42, criterion='entropy', max_depth=14, max_features='auto',\n",
    "                                n_estimators=500)\n",
    "\n",
    "model = supervised_learning(train_data,valid_data,test_data, model=rf, threshold=0.7,\n",
    "                                 iterations=15, \n",
    "                                 algorithm='Random Forest')\n",
    "\n",
    "with open('../models/sl/random_forest_model_s_bf.pickle', 'wb') as f:\n",
    "    pickle.dump(model, f)"
   ]
  }
 ],
 "metadata": {
  "file_extension": ".py",
  "kernelspec": {
   "display_name": "Python 3.6.10 64-bit ('FakeReview': conda)",
   "language": "python",
   "name": "python361064bitfakereviewconda1082ec436de54e2bac19ac17aaed50d5"
  },
  "language_info": {
   "codemirror_mode": {
    "name": "ipython",
    "version": 3
   },
   "file_extension": ".py",
   "mimetype": "text/x-python",
   "name": "python",
   "nbconvert_exporter": "python",
   "pygments_lexer": "ipython3",
   "version": "3.6.10"
  },
  "mimetype": "text/x-python",
  "name": "python",
  "npconvert_exporter": "python",
  "pygments_lexer": "ipython3",
  "version": 3
 },
 "nbformat": 4,
 "nbformat_minor": 2
}
