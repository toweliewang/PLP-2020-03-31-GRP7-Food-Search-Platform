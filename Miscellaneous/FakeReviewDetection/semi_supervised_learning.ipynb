{
 "cells": [
  {
   "cell_type": "code",
   "execution_count": 1,
   "metadata": {},
   "outputs": [
    {
     "data": {
      "text/html": [
       "<style> table {float:left} </style>\n"
      ],
      "text/plain": [
       "<IPython.core.display.HTML object>"
      ]
     },
     "metadata": {},
     "output_type": "display_data"
    }
   ],
   "source": [
    "%%html\n",
    "<style> table {float:left} </style>"
   ]
  },
  {
   "cell_type": "code",
   "execution_count": 2,
   "metadata": {},
   "outputs": [],
   "source": [
    "import sqlite3\n",
    "import pandas as pd\n",
    "from nltk.corpus import stopwords\n",
    "from nltk.tokenize import RegexpTokenizer\n",
    "from datetime import datetime\n",
    "import numpy as np\n",
    "from sklearn.ensemble import RandomForestClassifier\n",
    "from sklearn.feature_extraction.text import TfidfVectorizer\n",
    "from sklearn.model_selection import train_test_split\n",
    "from time import time\n",
    "from sklearn.naive_bayes import GaussianNB\n",
    "from sklearn.metrics import accuracy_score, recall_score, precision_score, f1_score, pairwise_distances\n",
    "from sklearn.metrics import confusion_matrix\n",
    "from collections import OrderedDict\n",
    "from sklearn.model_selection import GridSearchCV\n",
    "import matplotlib.pyplot as plt\n",
    "import seaborn as sns\n",
    "from tqdm.notebook import tqdm\n",
    "import pickle\n",
    "\n",
    "pd.options.mode.chained_assignment = None"
   ]
  },
  {
   "cell_type": "code",
   "execution_count": 3,
   "metadata": {},
   "outputs": [],
   "source": [
    "# only BF pretrained "
   ]
  },
  {
   "cell_type": "code",
   "execution_count": 4,
   "metadata": {},
   "outputs": [],
   "source": [
    "def plot_confusion_matrix(y_true, y_pred, classes, title=None, cmap=plt.cm.Blues):\n",
    "    # Compute confusion matrix\n",
    "    cm = confusion_matrix(y_true, y_pred)\n",
    "    # Only use the labels that appear in the data\n",
    "\n",
    "    fig, ax = plt.subplots()\n",
    "    im = ax.imshow(cm, interpolation='nearest', cmap=cmap)\n",
    "    ax.figure.colorbar(im, ax=ax)\n",
    "    # We want to show all ticks...\n",
    "    ax.set(xticks=np.arange(cm.shape[1]),\n",
    "           yticks=np.arange(cm.shape[0]),\n",
    "           xticklabels=classes,\n",
    "           yticklabels=classes,\n",
    "           title=title,\n",
    "           ylabel='True label',\n",
    "           xlabel='Predicted label')\n",
    "\n",
    "    # Rotate the tick labels and set their alignment.\n",
    "    plt.setp(ax.get_xticklabels(), rotation=45, ha=\"right\",\n",
    "             rotation_mode=\"anchor\")\n",
    "\n",
    "    # Loop over data dimensions and create text annotations.\n",
    "    fmt = 'd'\n",
    "    thresh = cm.max() / 2.\n",
    "    for i in range(cm.shape[0]):\n",
    "        for j in range(cm.shape[1]):\n",
    "            ax.text(j, i, format(cm[i, j], fmt),\n",
    "                    ha=\"center\", va=\"center\",\n",
    "                    color=\"white\" if cm[i, j] > thresh else \"black\")\n",
    "    fig.tight_layout()\n",
    "\n",
    "    return plt"
   ]
  },
  {
   "cell_type": "code",
   "execution_count": 5,
   "metadata": {},
   "outputs": [],
   "source": [
    "def semi_supervised_learning(train_data,valid_data,test_data,model,algorithm,threshold=0.8, iterations=40):\n",
    "    print(\"Training \"+algorithm+\" Model\")\n",
    "    _train_labels = train_data['flagged']\n",
    "    _train_data = train_data.drop(['flagged','reviewContent'], axis=1)\n",
    "    _valid_labels = valid_data['flagged']\n",
    "    _valid_data = valid_data.drop(['flagged','reviewContent'], axis=1)\n",
    "    _test_labels = test_data['flagged']\n",
    "    _test_data = test_data.drop(['flagged','reviewContent'], axis=1)\n",
    "\n",
    "    all_labeled = False\n",
    "\n",
    "    current_iteration = 0\n",
    "\n",
    "    pbar = tqdm(total=iterations)\n",
    "\n",
    "    while not all_labeled and (current_iteration < iterations):\n",
    "        current_iteration += 1\n",
    "        model.fit(_train_data, _train_labels)\n",
    "        probabilities = model.predict_proba(_valid_data)\n",
    "        pseudo_labels = model.predict(_valid_data)\n",
    "        indices = np.argwhere(probabilities > threshold)\n",
    "        for item in indices:\n",
    "            _train_data.loc[_valid_data.index[item[0]]] = _valid_data.iloc[item[0]]\n",
    "            _train_labels.loc[_valid_data.index[item[0]]] = pseudo_labels[item[0]]\n",
    "        _valid_data.drop(_valid_data.index[indices[:, 0]], inplace=True)\n",
    "        _valid_labels.drop(_valid_labels.index[indices[:, 0]], inplace=True)\n",
    "\n",
    "        if len(_valid_data) == 0:\n",
    "            print(\"Exiting loop\")\n",
    "            all_labeled = True\n",
    "        pbar.update(1)\n",
    "    pbar.close()\n",
    "    predicted_labels = model.predict(_test_data)\n",
    "\n",
    "    # print('Best Params : ', grid_clf_acc.best_params_)\n",
    "    print(algorithm + ' Model Results')\n",
    "    print('Accuracy Score : ' + str(accuracy_score(_test_labels, predicted_labels)))\n",
    "    print('Precision Score : ' + str(precision_score(_test_labels, predicted_labels, pos_label=\"Y\")))\n",
    "    print('Recall Score : ' + str(recall_score(_test_labels, predicted_labels, pos_label=\"Y\")))\n",
    "    print('F1 Score : ' + str(f1_score(_test_labels, predicted_labels, pos_label=\"Y\")))\n",
    "    print('Confusion Matrix : \\n' + str(confusion_matrix(_test_labels, predicted_labels)))\n",
    "    plot_confusion_matrix(_test_labels, predicted_labels, classes=['N', 'Y'],\n",
    "                          title=algorithm + ' Confusion Matrix').show()\n",
    "    \n",
    "    return model"
   ]
  },
  {
   "cell_type": "code",
   "execution_count": 6,
   "metadata": {},
   "outputs": [],
   "source": [
    "def supervised_learning(train_data,valid_data,test_data,model,algorithm,threshold=0.8, iterations=40):\n",
    "    print(\"Training \"+algorithm+\" Model\")\n",
    "    _train_labels = train_data['flagged']\n",
    "    _train_data = train_data.drop(['flagged','reviewContent'], axis=1)\n",
    "    _valid_labels = valid_data['flagged']\n",
    "    _valid_data = valid_data.drop(['flagged','reviewContent'], axis=1)\n",
    "    _test_labels = test_data['flagged']\n",
    "    _test_data = test_data.drop(['flagged','reviewContent'], axis=1)\n",
    "\n",
    "    model.fit(_train_data, _train_labels)\n",
    "    predicted_labels = model.predict(_test_data)\n",
    "\n",
    "    # print('Best Params : ', grid_clf_acc.best_params_)\n",
    "    print(algorithm + ' Model Results')\n",
    "    print('Accuracy Score : ' + str(accuracy_score(_test_labels, predicted_labels)))\n",
    "    print('Precision Score : ' + str(precision_score(_test_labels, predicted_labels, pos_label=\"Y\")))\n",
    "    print('Recall Score : ' + str(recall_score(_test_labels, predicted_labels, pos_label=\"Y\")))\n",
    "    print('F1 Score : ' + str(f1_score(_test_labels, predicted_labels, pos_label=\"Y\")))\n",
    "    print('Confusion Matrix : \\n' + str(confusion_matrix(_test_labels, predicted_labels)))\n",
    "    plot_confusion_matrix(_test_labels, predicted_labels, classes=['N', 'Y'],\n",
    "                          title=algorithm + ' Confusion Matrix').show()\n",
    "    \n",
    "    return model"
   ]
  },
  {
   "cell_type": "markdown",
   "metadata": {},
   "source": [
    "### Pretrained"
   ]
  },
  {
   "cell_type": "code",
   "execution_count": 7,
   "metadata": {},
   "outputs": [],
   "source": [
    "#with bf no sample"
   ]
  },
  {
   "cell_type": "code",
   "execution_count": 8,
   "metadata": {},
   "outputs": [],
   "source": [
    "train_data = pd.read_csv(\"../data/pretrained_model/train_no_sampled.csv\")\n",
    "valid_data = pd.read_csv(\"../data/pretrained_model/valid_no_sampled.csv\")\n",
    "test_data = pd.read_csv(\"../data/pretrained_model/test_no_sampled.csv\")"
   ]
  },
  {
   "cell_type": "code",
   "execution_count": 9,
   "metadata": {},
   "outputs": [
    {
     "name": "stdout",
     "output_type": "stream",
     "text": [
      "Training Random Forest Model\n"
     ]
    },
    {
     "data": {
      "application/vnd.jupyter.widget-view+json": {
       "model_id": "22338260b5a64d0894fff63e25e39064",
       "version_major": 2,
       "version_minor": 0
      },
      "text/plain": [
       "HBox(children=(FloatProgress(value=0.0, max=15.0), HTML(value='')))"
      ]
     },
     "metadata": {},
     "output_type": "display_data"
    },
    {
     "name": "stdout",
     "output_type": "stream",
     "text": [
      "\n",
      "Random Forest Model Results\n",
      "Accuracy Score : 0.857911333704322\n",
      "Precision Score : 0.7401415571284126\n",
      "Recall Score : 0.5898468976631749\n",
      "F1 Score : 0.6565022421524663\n",
      "Confusion Matrix : \n",
      "[[3893  257]\n",
      " [ 509  732]]\n"
     ]
    },
    {
     "data": {
      "image/png": "[encoded data removed]",
      "text/plain": [
       "<Figure size 432x288 with 2 Axes>"
      ]
     },
     "metadata": {
      "needs_background": "light"
     },
     "output_type": "display_data"
    }
   ],
   "source": [
    "rf = RandomForestClassifier(random_state=42, criterion='entropy', max_depth=14, max_features='auto',\n",
    "                                n_estimators=500)\n",
    "\n",
    "model = semi_supervised_learning(train_data,valid_data,test_data, model=rf, threshold=0.9,\n",
    "                                 iterations=15, \n",
    "                                 algorithm='Random Forest')\n",
    "with open('../models/semi_sl/random_forest_model_no_sample.pickle', 'wb') as f:\n",
    "    pickle.dump(model, f)"
   ]
  },
  {
   "cell_type": "code",
   "execution_count": 10,
   "metadata": {},
   "outputs": [],
   "source": [
    "with open('../models/semi_sl/random_forest_model_no_sample.pickle', 'wb') as f:\n",
    "    pickle.dump(model, f)"
   ]
  },
  {
   "cell_type": "code",
   "execution_count": 11,
   "metadata": {},
   "outputs": [],
   "source": [
    "#with bf"
   ]
  },
  {
   "cell_type": "code",
   "execution_count": 12,
   "metadata": {},
   "outputs": [],
   "source": [
    "train_data = pd.read_csv(\"../data/pretrained_model/train.csv\")\n",
    "valid_data = pd.read_csv(\"../data/pretrained_model/valid.csv\")\n",
    "test_data = pd.read_csv(\"../data/pretrained_model/test.csv\")"
   ]
  },
  {
   "cell_type": "code",
   "execution_count": 13,
   "metadata": {},
   "outputs": [
    {
     "name": "stdout",
     "output_type": "stream",
     "text": [
      "Training Random Forest Model\n"
     ]
    },
    {
     "data": {
      "application/vnd.jupyter.widget-view+json": {
       "model_id": "99744825088e437e9d015d957c7c13fe",
       "version_major": 2,
       "version_minor": 0
      },
      "text/plain": [
       "HBox(children=(FloatProgress(value=0.0, max=40.0), HTML(value='')))"
      ]
     },
     "metadata": {},
     "output_type": "display_data"
    },
    {
     "name": "stdout",
     "output_type": "stream",
     "text": [
      "\n",
      "Random Forest Model Results\n",
      "Accuracy Score : 0.7913188647746243\n",
      "Precision Score : 0.526173285198556\n",
      "Recall Score : 0.9395648670427075\n",
      "F1 Score : 0.6745733294764247\n",
      "Confusion Matrix : \n",
      "[[3100 1050]\n",
      " [  75 1166]]\n"
     ]
    },
    {
     "data": {
      "image/png": "[encoded data removed]",
      "text/plain": [
       "<Figure size 432x288 with 2 Axes>"
      ]
     },
     "metadata": {
      "needs_background": "light"
     },
     "output_type": "display_data"
    }
   ],
   "source": [
    "rf = RandomForestClassifier(random_state=42, criterion='entropy', max_depth=50, max_features='auto',\n",
    "                                n_estimators=500)\n",
    "\n",
    "model = semi_supervised_learning(train_data,valid_data,test_data, model=rf, threshold=0.7,\n",
    "                                 iterations=40, \n",
    "                                 algorithm='Random Forest')\n",
    "\n",
    "with open('../models/semi_sl/random_forest_model_all.pickle', 'wb') as f:\n",
    "    pickle.dump(model, f)"
   ]
  },
  {
   "cell_type": "code",
   "execution_count": 14,
   "metadata": {},
   "outputs": [],
   "source": [
    "# only word2vec"
   ]
  },
  {
   "cell_type": "code",
   "execution_count": 15,
   "metadata": {},
   "outputs": [],
   "source": [
    "train_data = pd.read_csv(\"../data/pretrained_model/train_no_bf.csv\")\n",
    "valid_data = pd.read_csv(\"../data/pretrained_model/valid_no_bf.csv\")\n",
    "test_data = pd.read_csv(\"../data/pretrained_model/test_no_bf.csv\")"
   ]
  },
  {
   "cell_type": "code",
   "execution_count": 16,
   "metadata": {},
   "outputs": [
    {
     "name": "stdout",
     "output_type": "stream",
     "text": [
      "Training Random Forest Model\n"
     ]
    },
    {
     "data": {
      "application/vnd.jupyter.widget-view+json": {
       "model_id": "6f3a8c5222814df6bf165f10a62f0f05",
       "version_major": 2,
       "version_minor": 0
      },
      "text/plain": [
       "HBox(children=(FloatProgress(value=0.0, max=15.0), HTML(value='')))"
      ]
     },
     "metadata": {},
     "output_type": "display_data"
    },
    {
     "name": "stdout",
     "output_type": "stream",
     "text": [
      "\n",
      "Random Forest Model Results\n",
      "Accuracy Score : 0.7356705620478575\n",
      "Precision Score : 0.4632\n",
      "Recall Score : 0.9331184528605962\n",
      "F1 Score : 0.6190858059342421\n",
      "Confusion Matrix : \n",
      "[[2808 1342]\n",
      " [  83 1158]]\n"
     ]
    },
    {
     "data": {
      "image/png": "[encoded data removed]",
      "text/plain": [
       "<Figure size 432x288 with 2 Axes>"
      ]
     },
     "metadata": {
      "needs_background": "light"
     },
     "output_type": "display_data"
    }
   ],
   "source": [
    "rf = RandomForestClassifier(random_state=42, criterion='entropy', max_depth=50, max_features='auto',\n",
    "                                n_estimators=500)\n",
    "\n",
    "model = semi_supervised_learning(train_data,valid_data,test_data, model=rf, threshold=0.7,\n",
    "                                 iterations=15, \n",
    "                                 algorithm='Random Forest')\n",
    "\n",
    "with open('../models/semi_sl/random_forest_model_word2vec.pickle', 'wb') as f:\n",
    "    pickle.dump(model, f)"
   ]
  },
  {
   "cell_type": "code",
   "execution_count": 17,
   "metadata": {},
   "outputs": [],
   "source": [
    "# only bf"
   ]
  },
  {
   "cell_type": "code",
   "execution_count": 18,
   "metadata": {},
   "outputs": [],
   "source": [
    "train_data = pd.read_csv(\"../data/pretrained_model/train_bf.csv\")\n",
    "valid_data = pd.read_csv(\"../data/pretrained_model/valid_bf.csv\")\n",
    "test_data = pd.read_csv(\"../data/pretrained_model/test_bf.csv\")"
   ]
  },
  {
   "cell_type": "code",
   "execution_count": 19,
   "metadata": {},
   "outputs": [
    {
     "name": "stdout",
     "output_type": "stream",
     "text": [
      "Training Random Forest Model\n"
     ]
    },
    {
     "data": {
      "application/vnd.jupyter.widget-view+json": {
       "model_id": "8eac81ffefe64830894d703ee9a6426f",
       "version_major": 2,
       "version_minor": 0
      },
      "text/plain": [
       "HBox(children=(FloatProgress(value=0.0, max=15.0), HTML(value='')))"
      ]
     },
     "metadata": {},
     "output_type": "display_data"
    },
    {
     "name": "stdout",
     "output_type": "stream",
     "text": [
      "\n",
      "Random Forest Model Results\n",
      "Accuracy Score : 0.7918753478018921\n",
      "Precision Score : 0.5266935845670704\n",
      "Recall Score : 0.9460112812248187\n",
      "F1 Score : 0.676657060518732\n",
      "Confusion Matrix : \n",
      "[[3095 1055]\n",
      " [  67 1174]]\n"
     ]
    },
    {
     "data": {
      "image/png": "[encoded data removed]",
      "text/plain": [
       "<Figure size 432x288 with 2 Axes>"
      ]
     },
     "metadata": {
      "needs_background": "light"
     },
     "output_type": "display_data"
    }
   ],
   "source": [
    "rf = RandomForestClassifier(random_state=42, criterion='entropy', max_depth=10, max_features='auto',\n",
    "                                n_estimators=500)\n",
    "\n",
    "model = semi_supervised_learning(train_data,valid_data,test_data, model=rf, threshold=0.7,\n",
    "                                 iterations=15, \n",
    "                                 algorithm='Random Forest')\n",
    "\n",
    "with open('../models/semi_sl/random_forest_model_bf.pickle', 'wb') as f:\n",
    "    pickle.dump(model, f)"
   ]
  },
  {
   "cell_type": "markdown",
   "metadata": {},
   "source": [
    "### Self model"
   ]
  },
  {
   "cell_type": "code",
   "execution_count": 20,
   "metadata": {},
   "outputs": [],
   "source": [
    "train_data = pd.read_csv(\"../data/self_model/train.csv\")\n",
    "valid_data = pd.read_csv(\"../data/self_model/valid.csv\")\n",
    "test_data = pd.read_csv(\"../data/self_model/test.csv\")"
   ]
  },
  {
   "cell_type": "code",
   "execution_count": 21,
   "metadata": {},
   "outputs": [
    {
     "name": "stdout",
     "output_type": "stream",
     "text": [
      "Training Random Forest Model\n"
     ]
    },
    {
     "data": {
      "application/vnd.jupyter.widget-view+json": {
       "model_id": "9791d37701ac4fbb88f798fcc64ab0ad",
       "version_major": 2,
       "version_minor": 0
      },
      "text/plain": [
       "HBox(children=(FloatProgress(value=0.0, max=15.0), HTML(value='')))"
      ]
     },
     "metadata": {},
     "output_type": "display_data"
    },
    {
     "name": "stdout",
     "output_type": "stream",
     "text": [
      "\n",
      "Random Forest Model Results\n",
      "Accuracy Score : 0.7781487664626229\n",
      "Precision Score : 0.5097613882863341\n",
      "Recall Score : 0.9468170829975826\n",
      "F1 Score : 0.6627185561195714\n",
      "Confusion Matrix : \n",
      "[[3020 1130]\n",
      " [  66 1175]]\n"
     ]
    },
    {
     "data": {
      "image/png": "[encoded data removed]",
      "text/plain": [
       "<Figure size 432x288 with 2 Axes>"
      ]
     },
     "metadata": {
      "needs_background": "light"
     },
     "output_type": "display_data"
    }
   ],
   "source": [
    "rf = RandomForestClassifier(random_state=42, criterion='entropy', max_depth=14, max_features='auto',\n",
    "                                n_estimators=500)\n",
    "\n",
    "model = semi_supervised_learning(train_data,valid_data,test_data, model=rf, threshold=0.7,\n",
    "                                 iterations=15, \n",
    "                                 algorithm='Random Forest')\n",
    "\n",
    "with open('../models/semi_sl/random_forest_model_s_all.pickle', 'wb') as f:\n",
    "    pickle.dump(model, f)"
   ]
  },
  {
   "cell_type": "code",
   "execution_count": null,
   "metadata": {},
   "outputs": [],
   "source": []
  },
  {
   "cell_type": "code",
   "execution_count": null,
   "metadata": {},
   "outputs": [],
   "source": []
  },
  {
   "cell_type": "code",
   "execution_count": 22,
   "metadata": {},
   "outputs": [],
   "source": [
    "train_data = pd.read_csv(\"../data/self_model/train_no_bf.csv\")\n",
    "valid_data = pd.read_csv(\"../data/self_model/valid_no_bf.csv\")\n",
    "test_data = pd.read_csv(\"../data/self_model/test_no_bf.csv\")"
   ]
  },
  {
   "cell_type": "code",
   "execution_count": 23,
   "metadata": {},
   "outputs": [
    {
     "name": "stdout",
     "output_type": "stream",
     "text": [
      "Training Random Forest Model\n"
     ]
    },
    {
     "data": {
      "application/vnd.jupyter.widget-view+json": {
       "model_id": "56a181bb173545fa90bb37f90765a708",
       "version_major": 2,
       "version_minor": 0
      },
      "text/plain": [
       "HBox(children=(FloatProgress(value=0.0, max=15.0), HTML(value='')))"
      ]
     },
     "metadata": {},
     "output_type": "display_data"
    },
    {
     "name": "stdout",
     "output_type": "stream",
     "text": [
      "\n",
      "Random Forest Model Results\n",
      "Accuracy Score : 0.7375255054720831\n",
      "Precision Score : 0.46508828250401285\n",
      "Recall Score : 0.9339242546333602\n",
      "F1 Score : 0.6209482989552638\n",
      "Confusion Matrix : \n",
      "[[2817 1333]\n",
      " [  82 1159]]\n"
     ]
    },
    {
     "data": {
      "image/png": "[encoded data removed]",
      "text/plain": [
       "<Figure size 432x288 with 2 Axes>"
      ]
     },
     "metadata": {
      "needs_background": "light"
     },
     "output_type": "display_data"
    }
   ],
   "source": [
    "rf = RandomForestClassifier(random_state=42, criterion='entropy', max_depth=14, max_features='auto',\n",
    "                                n_estimators=500)\n",
    "\n",
    "model = semi_supervised_learning(train_data,valid_data,test_data, model=rf, threshold=0.7,\n",
    "                                 iterations=15, \n",
    "                                 algorithm='Random Forest')\n",
    "\n",
    "with open('../models/semi_sl/random_forest_model_s_word2vec.pickle', 'wb') as f:\n",
    "    pickle.dump(model, f)"
   ]
  },
  {
   "cell_type": "code",
   "execution_count": null,
   "metadata": {},
   "outputs": [],
   "source": []
  },
  {
   "cell_type": "code",
   "execution_count": 24,
   "metadata": {},
   "outputs": [],
   "source": [
    "train_data = pd.read_csv(\"../data/self_model/train_bf.csv\")\n",
    "valid_data = pd.read_csv(\"../data/self_model/valid_bf.csv\")\n",
    "test_data = pd.read_csv(\"../data/self_model/test_bf.csv\")"
   ]
  },
  {
   "cell_type": "code",
   "execution_count": 25,
   "metadata": {},
   "outputs": [
    {
     "name": "stdout",
     "output_type": "stream",
     "text": [
      "Training Random Forest Model\n"
     ]
    },
    {
     "data": {
      "application/vnd.jupyter.widget-view+json": {
       "model_id": "cbcab3a748b24f74a0be4a0cc79e1c43",
       "version_major": 2,
       "version_minor": 0
      },
      "text/plain": [
       "HBox(children=(FloatProgress(value=0.0, max=15.0), HTML(value='')))"
      ]
     },
     "metadata": {},
     "output_type": "display_data"
    },
    {
     "name": "stdout",
     "output_type": "stream",
     "text": [
      "\n",
      "Random Forest Model Results\n",
      "Accuracy Score : 0.7868670005564831\n",
      "Precision Score : 0.5201931518876207\n",
      "Recall Score : 0.9548751007252216\n",
      "F1 Score : 0.6734867860187553\n",
      "Confusion Matrix : \n",
      "[[3057 1093]\n",
      " [  56 1185]]\n"
     ]
    },
    {
     "data": {
      "image/png": "[encoded data removed]",
      "text/plain": [
       "<Figure size 432x288 with 2 Axes>"
      ]
     },
     "metadata": {
      "needs_background": "light"
     },
     "output_type": "display_data"
    }
   ],
   "source": [
    "rf = RandomForestClassifier(random_state=42, criterion='entropy', max_depth=14, max_features='auto',\n",
    "                                n_estimators=500)\n",
    "\n",
    "model = semi_supervised_learning(train_data,valid_data,test_data, model=rf, threshold=0.7,\n",
    "                                 iterations=15, \n",
    "                                 algorithm='Random Forest')\n",
    "\n",
    "with open('../models/semi_sl/random_forest_model_s_bf.pickle', 'wb') as f:\n",
    "    pickle.dump(model, f)"
   ]
  }
 ],
 "metadata": {
  "file_extension": ".py",
  "kernelspec": {
   "display_name": "Python 3.6.10 64-bit ('FakeReview': conda)",
   "language": "python",
   "name": "python361064bitfakereviewconda1082ec436de54e2bac19ac17aaed50d5"
  },
  "language_info": {
   "codemirror_mode": {
    "name": "ipython",
    "version": 3
   },
   "file_extension": ".py",
   "mimetype": "text/x-python",
   "name": "python",
   "nbconvert_exporter": "python",
   "pygments_lexer": "ipython3",
   "version": "3.6.10"
  },
  "mimetype": "text/x-python",
  "name": "python",
  "npconvert_exporter": "python",
  "pygments_lexer": "ipython3",
  "version": 3
 },
 "nbformat": 4,
 "nbformat_minor": 2
}
