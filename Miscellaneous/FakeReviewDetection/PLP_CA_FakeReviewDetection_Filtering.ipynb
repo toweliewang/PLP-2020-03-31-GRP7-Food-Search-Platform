{
 "cells": [
  {
   "cell_type": "markdown",
   "metadata": {},
   "source": [
    "## Environment Setup"
   ]
  },
  {
   "cell_type": "code",
   "execution_count": 131,
   "metadata": {},
   "outputs": [
    {
     "name": "stdout",
     "output_type": "stream",
     "text": [
      "Requirement already satisfied: gdown in /Users/jiachenx/opt/anaconda3/lib/python3.7/site-packages (3.10.1)\n",
      "Requirement already satisfied: pandas in /Users/jiachenx/opt/anaconda3/lib/python3.7/site-packages (0.25.3)\n",
      "Requirement already satisfied: nltk in /Users/jiachenx/opt/anaconda3/lib/python3.7/site-packages (3.4.5)\n",
      "Requirement already satisfied: numpy in /Users/jiachenx/opt/anaconda3/lib/python3.7/site-packages (1.18.0)\n",
      "Requirement already satisfied: tqdm in /Users/jiachenx/opt/anaconda3/lib/python3.7/site-packages (from gdown) (4.41.1)\n",
      "Requirement already satisfied: filelock in /Users/jiachenx/opt/anaconda3/lib/python3.7/site-packages (from gdown) (3.0.12)\n",
      "Requirement already satisfied: six in /Users/jiachenx/opt/anaconda3/lib/python3.7/site-packages (from gdown) (1.12.0)\n",
      "Requirement already satisfied: requests[socks] in /Users/jiachenx/opt/anaconda3/lib/python3.7/site-packages (from gdown) (2.22.0)\n",
      "Requirement already satisfied: pytz>=2017.2 in /Users/jiachenx/opt/anaconda3/lib/python3.7/site-packages (from pandas) (2019.3)\n",
      "Requirement already satisfied: python-dateutil>=2.6.1 in /Users/jiachenx/opt/anaconda3/lib/python3.7/site-packages (from pandas) (2.8.0)\n",
      "Requirement already satisfied: chardet<3.1.0,>=3.0.2 in /Users/jiachenx/opt/anaconda3/lib/python3.7/site-packages (from requests[socks]->gdown) (3.0.4)\n",
      "Requirement already satisfied: urllib3!=1.25.0,!=1.25.1,<1.26,>=1.21.1 in /Users/jiachenx/opt/anaconda3/lib/python3.7/site-packages (from requests[socks]->gdown) (1.24.2)\n",
      "Requirement already satisfied: idna<2.9,>=2.5 in /Users/jiachenx/opt/anaconda3/lib/python3.7/site-packages (from requests[socks]->gdown) (2.8)\n",
      "Requirement already satisfied: certifi>=2017.4.17 in /Users/jiachenx/opt/anaconda3/lib/python3.7/site-packages (from requests[socks]->gdown) (2019.9.11)\n",
      "Requirement already satisfied: PySocks!=1.5.7,>=1.5.6; extra == \"socks\" in /Users/jiachenx/opt/anaconda3/lib/python3.7/site-packages (from requests[socks]->gdown) (1.7.1)\n"
     ]
    },
    {
     "name": "stderr",
     "output_type": "stream",
     "text": [
      "[nltk_data] Downloading package stopwords to\n",
      "[nltk_data]     /Users/jiachenx/nltk_data...\n",
      "[nltk_data]   Package stopwords is already up-to-date!\n"
     ]
    },
    {
     "data": {
      "text/plain": [
       "True"
      ]
     },
     "execution_count": 131,
     "metadata": {},
     "output_type": "execute_result"
    }
   ],
   "source": [
    "!pip install gdown pandas nltk numpy sklearn\n",
    "import nltk\n",
    "nltk.download('stopwords')"
   ]
  },
  {
   "cell_type": "markdown",
   "metadata": {},
   "source": [
    "## Library imports and download trained model"
   ]
  },
  {
   "cell_type": "code",
   "execution_count": 1,
   "metadata": {},
   "outputs": [],
   "source": [
    "import pandas as pd\n",
    "from nltk.corpus import stopwords\n",
    "from nltk.tokenize import RegexpTokenizer\n",
    "from sklearn.feature_extraction.text import TfidfVectorizer\n",
    "from sklearn.metrics import pairwise_distances\n",
    "from datetime import datetime\n",
    "from collections import OrderedDict\n",
    "import numpy as np\n",
    "import gdown"
   ]
  },
  {
   "cell_type": "markdown",
   "metadata": {},
   "source": [
    "### Download and load word2vec model"
   ]
  },
  {
   "cell_type": "code",
   "execution_count": 135,
   "metadata": {},
   "outputs": [
    {
     "name": "stderr",
     "output_type": "stream",
     "text": [
      "Downloading...\n",
      "From: https://drive.google.com/uc?id=1FgashJqm39epit1taqYa0vYtUR-S8yyO\n",
      "To: /Users/jiachenx/Desktop/lin/FakeReviewDetection/word2vec.zip\n",
      "484MB [00:42, 11.3MB/s] \n"
     ]
    },
    {
     "data": {
      "text/plain": [
       "'word2vec.zip'"
      ]
     },
     "execution_count": 135,
     "metadata": {},
     "output_type": "execute_result"
    }
   ],
   "source": [
    "gdown.download('https://drive.google.com/uc?id=1FgashJqm39epit1taqYa0vYtUR-S8yyO', 'word2vec.zip', quiet=False)"
   ]
  },
  {
   "cell_type": "code",
   "execution_count": 137,
   "metadata": {},
   "outputs": [],
   "source": [
    "!unzip -qq word2vec.zip -d ."
   ]
  },
  {
   "cell_type": "code",
   "execution_count": 2,
   "metadata": {},
   "outputs": [],
   "source": [
    "from gensim.models import KeyedVectors\n",
    "\n",
    "w2vmodel = KeyedVectors.load('word2vec/glove-100d.model')"
   ]
  },
  {
   "cell_type": "markdown",
   "metadata": {},
   "source": [
    "### Load fake review detection model"
   ]
  },
  {
   "cell_type": "code",
   "execution_count": 3,
   "metadata": {},
   "outputs": [],
   "source": [
    "import pickle\n",
    "model = None\n",
    "with open('models/semi_sl/random_forest_model_all.pickle', 'rb') as f:\n",
    "    model = pickle.load(f)"
   ]
  },
  {
   "cell_type": "markdown",
   "metadata": {},
   "source": [
    "## Data load and preprocessing"
   ]
  },
  {
   "cell_type": "code",
   "execution_count": 4,
   "metadata": {},
   "outputs": [
    {
     "data": {
      "text/html": [
       "<div>\n",
       "<style scoped>\n",
       "    .dataframe tbody tr th:only-of-type {\n",
       "        vertical-align: middle;\n",
       "    }\n",
       "\n",
       "    .dataframe tbody tr th {\n",
       "        vertical-align: top;\n",
       "    }\n",
       "\n",
       "    .dataframe thead th {\n",
       "        text-align: right;\n",
       "    }\n",
       "</style>\n",
       "<table border=\"1\" class=\"dataframe\">\n",
       "  <thead>\n",
       "    <tr style=\"text-align: right;\">\n",
       "      <th></th>\n",
       "      <th>res_id</th>\n",
       "      <th>page</th>\n",
       "      <th>name</th>\n",
       "      <th>review page</th>\n",
       "      <th>review</th>\n",
       "      <th>rating_x</th>\n",
       "      <th>id</th>\n",
       "      <th>comment</th>\n",
       "      <th>helpful</th>\n",
       "      <th>arriving time</th>\n",
       "      <th>review time</th>\n",
       "      <th>rating_y</th>\n",
       "    </tr>\n",
       "  </thead>\n",
       "  <tbody>\n",
       "    <tr>\n",
       "      <th>0</th>\n",
       "      <td>1</td>\n",
       "      <td>1</td>\n",
       "      <td>Le Noir Bar &amp; Lounge</td>\n",
       "      <td>1.0</td>\n",
       "      <td>I came here with some friends the other night,...</td>\n",
       "      <td>5</td>\n",
       "      <td>EmelineM89</td>\n",
       "      <td>1</td>\n",
       "      <td>0</td>\n",
       "      <td>Feb-20</td>\n",
       "      <td>4 days ago</td>\n",
       "      <td>5.0</td>\n",
       "    </tr>\n",
       "    <tr>\n",
       "      <th>1</th>\n",
       "      <td>1</td>\n",
       "      <td>1</td>\n",
       "      <td>Le Noir Bar &amp; Lounge</td>\n",
       "      <td>1.0</td>\n",
       "      <td>Wonderful atmosphere very small place . Excell...</td>\n",
       "      <td>5</td>\n",
       "      <td>Tufayelhu</td>\n",
       "      <td>162</td>\n",
       "      <td>47</td>\n",
       "      <td>Feb-20</td>\n",
       "      <td>1 week ago</td>\n",
       "      <td>5.0</td>\n",
       "    </tr>\n",
       "    <tr>\n",
       "      <th>2</th>\n",
       "      <td>1</td>\n",
       "      <td>1</td>\n",
       "      <td>Le Noir Bar &amp; Lounge</td>\n",
       "      <td>1.0</td>\n",
       "      <td>Nice services, good meal. Small place, but int...</td>\n",
       "      <td>4</td>\n",
       "      <td>sorin g</td>\n",
       "      <td>0</td>\n",
       "      <td>0</td>\n",
       "      <td>Feb-20</td>\n",
       "      <td>2 weeks ago</td>\n",
       "      <td>5.0</td>\n",
       "    </tr>\n",
       "    <tr>\n",
       "      <th>3</th>\n",
       "      <td>1</td>\n",
       "      <td>1</td>\n",
       "      <td>Le Noir Bar &amp; Lounge</td>\n",
       "      <td>1.0</td>\n",
       "      <td>Our first bar stop in Singapore and it did not...</td>\n",
       "      <td>5</td>\n",
       "      <td>AshleighMcGrath</td>\n",
       "      <td>1</td>\n",
       "      <td>0</td>\n",
       "      <td>Feb-20</td>\n",
       "      <td>3 weeks ago</td>\n",
       "      <td>5.0</td>\n",
       "    </tr>\n",
       "    <tr>\n",
       "      <th>4</th>\n",
       "      <td>1</td>\n",
       "      <td>1</td>\n",
       "      <td>Le Noir Bar &amp; Lounge</td>\n",
       "      <td>1.0</td>\n",
       "      <td>We had just a great time in this bar, especial...</td>\n",
       "      <td>5</td>\n",
       "      <td>b_rginp2020</td>\n",
       "      <td>1</td>\n",
       "      <td>0</td>\n",
       "      <td>Feb-20</td>\n",
       "      <td>3 weeks ago</td>\n",
       "      <td>5.0</td>\n",
       "    </tr>\n",
       "  </tbody>\n",
       "</table>\n",
       "</div>"
      ],
      "text/plain": [
       "   res_id  page                   name  review page  \\\n",
       "0       1     1   Le Noir Bar & Lounge          1.0   \n",
       "1       1     1   Le Noir Bar & Lounge          1.0   \n",
       "2       1     1   Le Noir Bar & Lounge          1.0   \n",
       "3       1     1   Le Noir Bar & Lounge          1.0   \n",
       "4       1     1   Le Noir Bar & Lounge          1.0   \n",
       "\n",
       "                                              review  rating_x  \\\n",
       "0  I came here with some friends the other night,...         5   \n",
       "1  Wonderful atmosphere very small place . Excell...         5   \n",
       "2  Nice services, good meal. Small place, but int...         4   \n",
       "3  Our first bar stop in Singapore and it did not...         5   \n",
       "4  We had just a great time in this bar, especial...         5   \n",
       "\n",
       "                id  comment  helpful arriving time   review time  rating_y  \n",
       "0       EmelineM89        1        0        Feb-20   4 days ago        5.0  \n",
       "1        Tufayelhu      162       47        Feb-20   1 week ago        5.0  \n",
       "2          sorin g        0        0        Feb-20  2 weeks ago        5.0  \n",
       "3  AshleighMcGrath        1        0        Feb-20  3 weeks ago        5.0  \n",
       "4      b_rginp2020        1        0        Feb-20  3 weeks ago        5.0  "
      ]
     },
     "execution_count": 4,
     "metadata": {},
     "output_type": "execute_result"
    }
   ],
   "source": [
    "eateries_df = pd.read_csv('data/eateries.csv')\n",
    "reviews_df = pd.read_csv('data/reviews.csv')\n",
    "df = reviews_df.merge(eateries_df[['res_id','rating']], on='res_id', how='inner')\n",
    "df.head()"
   ]
  },
  {
   "cell_type": "code",
   "execution_count": 5,
   "metadata": {},
   "outputs": [],
   "source": [
    "def get_contentVector(content):\n",
    "    tokenizer = RegexpTokenizer(r'\\w+')\n",
    "    cutWords = tokenizer.tokenize(content)\n",
    "    vector_list = [w2vmodel.wv[k] for k in cutWords if k in w2vmodel]\n",
    "    contentVector = np.array(vector_list).mean(axis=0)\n",
    "    return pd.Series(contentVector)"
   ]
  },
  {
   "cell_type": "code",
   "execution_count": 6,
   "metadata": {},
   "outputs": [],
   "source": [
    "def preprocess(df):\n",
    "    stop = stopwords.words('english')\n",
    "    df['review'] = df['review'].apply(\n",
    "        lambda x: ' '.join(word for word in x.split() if word not in stop))\n",
    "\n",
    "    tokenizer = RegexpTokenizer(r'\\w+')\n",
    "    df['review'] = df['review'].apply(\n",
    "        lambda x: ' '.join(word for word in tokenizer.tokenize(x)))\n",
    "\n",
    "    df['review'] = df['review'].apply(\n",
    "        lambda x: x.lower())\n",
    "    \n",
    "    review2v = df.review.apply(get_contentVector)\n",
    "    df = pd.concat([df,review2v], axis=1)\n",
    "    \n",
    "    mnr_df1 = df[['id', 'arriving time']].copy()\n",
    "    mnr_df2 = mnr_df1.groupby(by=['arriving time', 'id']).size().reset_index(name='mnr')\n",
    "    mnr_df2['mnr'] = mnr_df2['mnr'] / mnr_df2['mnr'].max()\n",
    "    df = df.merge(mnr_df2, on=['id', 'arriving time'], how='inner')\n",
    "\n",
    "    df['rl'] = df['review'].apply(\n",
    "        lambda x: len(x.split()))\n",
    "\n",
    "    df['rd'] = abs(df['rating_x'] - df['rating_y']) / 4\n",
    "\n",
    "    review_data = df\n",
    "\n",
    "    res = OrderedDict()\n",
    "\n",
    "    for row in review_data.iterrows():\n",
    "        if row[1].id in res:\n",
    "            res[row[1].id].append(row[1].review)\n",
    "        else:\n",
    "            res[row[1].id] = [row[1].review]\n",
    "\n",
    "    individual_reviewer = [{'id': k, 'review': v} for k, v in res.items()]\n",
    "    df2 = dict()\n",
    "    df2['id'] = pd.Series([])\n",
    "    df2['Maximum Content Similarity'] = pd.Series([])\n",
    "    vector = TfidfVectorizer(min_df=0)\n",
    "    count = -1\n",
    "    for reviewer_data in individual_reviewer:\n",
    "        count = count + 1\n",
    "        try:\n",
    "            tfidf = vector.fit_transform(reviewer_data['review'])\n",
    "        except:\n",
    "            pass\n",
    "        cosine = 1 - pairwise_distances(tfidf, metric='cosine')\n",
    "\n",
    "        np.fill_diagonal(cosine, -np.inf)\n",
    "        max = cosine.max()\n",
    "        \n",
    "        if max == -np.inf:\n",
    "            max = 0\n",
    "        df2['id'][count] = reviewer_data['id']\n",
    "        df2['Maximum Content Similarity'][count] = max\n",
    "\n",
    "    df3 = pd.DataFrame(df2, columns=['id', 'Maximum Content Similarity'])\n",
    "\n",
    "    df = pd.merge(review_data, df3, on=\"id\", how=\"left\")\n",
    "\n",
    "    df.drop(index=np.where(pd.isnull(df))[0], axis=0, inplace=True)\n",
    "    print(\"Feature Engineering Complete\")\n",
    "    \n",
    "    \n",
    "    df.drop(['rating_y'], axis=1, inplace=True)\n",
    "    df.rename(columns={'rating_x':'rating'},inplace=True)\n",
    "    \n",
    "    _df = df.copy()\n",
    "    _df.drop(['res_id', 'page', 'name', 'review page', 'id','arriving time','review','review time'], axis=1, inplace=True)\n",
    "    _df.rename(columns={'helpful':'reviewUsefulCount'},inplace=True)\n",
    "    _df.rename(columns={'comment':'reviewCount'},inplace=True)\n",
    "    reviewCount = _df[['reviewCount']]\n",
    "    _df = _df.drop('reviewCount',axis=1)\n",
    "    _df.insert(2,'reviewCount',reviewCount)\n",
    "    \n",
    "    \n",
    "    return df,_df"
   ]
  },
  {
   "cell_type": "code",
   "execution_count": 7,
   "metadata": {},
   "outputs": [
    {
     "name": "stderr",
     "output_type": "stream",
     "text": [
      "/Users/jiachenx/opt/anaconda3/envs/FakeReview/lib/python3.6/site-packages/ipykernel_launcher.py:4: DeprecationWarning: Call to deprecated `wv` (Attribute will be removed in 4.0.0, use self instead).\n",
      "  after removing the cwd from sys.path.\n",
      "/Users/jiachenx/opt/anaconda3/envs/FakeReview/lib/python3.6/site-packages/ipykernel_launcher.py:38: DeprecationWarning: The default dtype for empty Series will be 'object' instead of 'float64' in a future version. Specify a dtype explicitly to silence this warning.\n",
      "/Users/jiachenx/opt/anaconda3/envs/FakeReview/lib/python3.6/site-packages/ipykernel_launcher.py:39: DeprecationWarning: The default dtype for empty Series will be 'object' instead of 'float64' in a future version. Specify a dtype explicitly to silence this warning.\n"
     ]
    },
    {
     "name": "stdout",
     "output_type": "stream",
     "text": [
      "Feature Engineering Complete\n"
     ]
    }
   ],
   "source": [
    "result_df,model_df = preprocess(df)"
   ]
  },
  {
   "cell_type": "markdown",
   "metadata": {},
   "source": [
    "## Fake Review Detection and output"
   ]
  },
  {
   "cell_type": "code",
   "execution_count": 17,
   "metadata": {},
   "outputs": [],
   "source": [
    "predicted_labels = model.predict(model_df)\n",
    "flagged = []\n",
    "for i in predicted_labels:\n",
    "    flagged.append(i)\n",
    "result_df['flagged'] = flagged"
   ]
  },
  {
   "cell_type": "code",
   "execution_count": 18,
   "metadata": {},
   "outputs": [
    {
     "data": {
      "text/plain": [
       "Y    8955\n",
       "N    7975\n",
       "Name: flagged, dtype: int64"
      ]
     },
     "execution_count": 18,
     "metadata": {},
     "output_type": "execute_result"
    }
   ],
   "source": [
    "result_df.flagged.value_counts()"
   ]
  },
  {
   "cell_type": "code",
   "execution_count": 19,
   "metadata": {},
   "outputs": [],
   "source": [
    "non_fake_review_df = result_df[result_df.flagged == 'N']"
   ]
  },
  {
   "cell_type": "code",
   "execution_count": 20,
   "metadata": {},
   "outputs": [
    {
     "data": {
      "text/html": [
       "<div>\n",
       "<style scoped>\n",
       "    .dataframe tbody tr th:only-of-type {\n",
       "        vertical-align: middle;\n",
       "    }\n",
       "\n",
       "    .dataframe tbody tr th {\n",
       "        vertical-align: top;\n",
       "    }\n",
       "\n",
       "    .dataframe thead th {\n",
       "        text-align: right;\n",
       "    }\n",
       "</style>\n",
       "<table border=\"1\" class=\"dataframe\">\n",
       "  <thead>\n",
       "    <tr style=\"text-align: right;\">\n",
       "      <th></th>\n",
       "      <th>res_id</th>\n",
       "      <th>page</th>\n",
       "      <th>name</th>\n",
       "      <th>review page</th>\n",
       "      <th>review</th>\n",
       "      <th>rating</th>\n",
       "      <th>id</th>\n",
       "      <th>comment</th>\n",
       "      <th>helpful</th>\n",
       "      <th>arriving time</th>\n",
       "      <th>review time</th>\n",
       "      <th>flagged</th>\n",
       "    </tr>\n",
       "  </thead>\n",
       "  <tbody>\n",
       "    <tr>\n",
       "      <th>1</th>\n",
       "      <td>1</td>\n",
       "      <td>1</td>\n",
       "      <td>Le Noir Bar &amp; Lounge</td>\n",
       "      <td>1.0</td>\n",
       "      <td>wonderful atmosphere small place excellent foo...</td>\n",
       "      <td>5</td>\n",
       "      <td>Tufayelhu</td>\n",
       "      <td>162</td>\n",
       "      <td>47</td>\n",
       "      <td>Feb-20</td>\n",
       "      <td>1 week ago</td>\n",
       "      <td>N</td>\n",
       "    </tr>\n",
       "    <tr>\n",
       "      <th>6</th>\n",
       "      <td>1</td>\n",
       "      <td>1</td>\n",
       "      <td>Le Noir Bar &amp; Lounge</td>\n",
       "      <td>1.0</td>\n",
       "      <td>if looking venue iconic view singapore skyline...</td>\n",
       "      <td>5</td>\n",
       "      <td>Otium54</td>\n",
       "      <td>48</td>\n",
       "      <td>34</td>\n",
       "      <td>Jan-20</td>\n",
       "      <td>4 weeks ago</td>\n",
       "      <td>N</td>\n",
       "    </tr>\n",
       "    <tr>\n",
       "      <th>7</th>\n",
       "      <td>1</td>\n",
       "      <td>1</td>\n",
       "      <td>Le Noir Bar &amp; Lounge</td>\n",
       "      <td>1.0</td>\n",
       "      <td>stumbled across first night key spot clarke qu...</td>\n",
       "      <td>4</td>\n",
       "      <td>PrettyPacha</td>\n",
       "      <td>92</td>\n",
       "      <td>30</td>\n",
       "      <td>Feb-20</td>\n",
       "      <td>4 weeks ago</td>\n",
       "      <td>N</td>\n",
       "    </tr>\n",
       "    <tr>\n",
       "      <th>9</th>\n",
       "      <td>1</td>\n",
       "      <td>1</td>\n",
       "      <td>Le Noir Bar &amp; Lounge</td>\n",
       "      <td>1.0</td>\n",
       "      <td>very nice place drink very good customer servi...</td>\n",
       "      <td>5</td>\n",
       "      <td>107xavierd</td>\n",
       "      <td>2</td>\n",
       "      <td>1</td>\n",
       "      <td>Jan-20</td>\n",
       "      <td>26-Jan-20</td>\n",
       "      <td>N</td>\n",
       "    </tr>\n",
       "    <tr>\n",
       "      <th>10</th>\n",
       "      <td>1</td>\n",
       "      <td>1</td>\n",
       "      <td>Le Noir Bar &amp; Lounge</td>\n",
       "      <td>1.0</td>\n",
       "      <td>great position marina bay super people watchin...</td>\n",
       "      <td>5</td>\n",
       "      <td>Dillybop</td>\n",
       "      <td>277</td>\n",
       "      <td>138</td>\n",
       "      <td>Jan-20</td>\n",
       "      <td>26-Jan-20</td>\n",
       "      <td>N</td>\n",
       "    </tr>\n",
       "    <tr>\n",
       "      <th>...</th>\n",
       "      <td>...</td>\n",
       "      <td>...</td>\n",
       "      <td>...</td>\n",
       "      <td>...</td>\n",
       "      <td>...</td>\n",
       "      <td>...</td>\n",
       "      <td>...</td>\n",
       "      <td>...</td>\n",
       "      <td>...</td>\n",
       "      <td>...</td>\n",
       "      <td>...</td>\n",
       "      <td>...</td>\n",
       "    </tr>\n",
       "    <tr>\n",
       "      <th>16902</th>\n",
       "      <td>39</td>\n",
       "      <td>2</td>\n",
       "      <td>Mitzo</td>\n",
       "      <td>11.0</td>\n",
       "      <td>this second visit mitzo while first visit exce...</td>\n",
       "      <td>2</td>\n",
       "      <td>romes88</td>\n",
       "      <td>5</td>\n",
       "      <td>3</td>\n",
       "      <td>Nov-19</td>\n",
       "      <td>22-Nov-19</td>\n",
       "      <td>N</td>\n",
       "    </tr>\n",
       "    <tr>\n",
       "      <th>16913</th>\n",
       "      <td>39</td>\n",
       "      <td>2</td>\n",
       "      <td>Mitzo</td>\n",
       "      <td>12.0</td>\n",
       "      <td>while location ambience something quite notewo...</td>\n",
       "      <td>1</td>\n",
       "      <td>josephnguyen116</td>\n",
       "      <td>4</td>\n",
       "      <td>1</td>\n",
       "      <td>Oct-19</td>\n",
       "      <td>14-Nov-19</td>\n",
       "      <td>N</td>\n",
       "    </tr>\n",
       "    <tr>\n",
       "      <th>16915</th>\n",
       "      <td>39</td>\n",
       "      <td>2</td>\n",
       "      <td>Mitzo</td>\n",
       "      <td>12.0</td>\n",
       "      <td>chanced upon restaurant i chose ala carte menu...</td>\n",
       "      <td>5</td>\n",
       "      <td>yingshia</td>\n",
       "      <td>3</td>\n",
       "      <td>2</td>\n",
       "      <td>Nov-19</td>\n",
       "      <td>9-Nov-19</td>\n",
       "      <td>N</td>\n",
       "    </tr>\n",
       "    <tr>\n",
       "      <th>16921</th>\n",
       "      <td>39</td>\n",
       "      <td>2</td>\n",
       "      <td>Mitzo</td>\n",
       "      <td>13.0</td>\n",
       "      <td>my 2nd visit we like deco classy atmosphere go...</td>\n",
       "      <td>2</td>\n",
       "      <td>Desmondcheng</td>\n",
       "      <td>262</td>\n",
       "      <td>131</td>\n",
       "      <td>Oct-19</td>\n",
       "      <td>26-Oct-19</td>\n",
       "      <td>N</td>\n",
       "    </tr>\n",
       "    <tr>\n",
       "      <th>16925</th>\n",
       "      <td>39</td>\n",
       "      <td>2</td>\n",
       "      <td>Mitzo</td>\n",
       "      <td>13.0</td>\n",
       "      <td>we came nice meal reading reviews it restauran...</td>\n",
       "      <td>3</td>\n",
       "      <td>BurtMoustachio</td>\n",
       "      <td>106</td>\n",
       "      <td>17</td>\n",
       "      <td>Oct-19</td>\n",
       "      <td>20-Oct-19</td>\n",
       "      <td>N</td>\n",
       "    </tr>\n",
       "  </tbody>\n",
       "</table>\n",
       "<p>7975 rows × 12 columns</p>\n",
       "</div>"
      ],
      "text/plain": [
       "       res_id  page                   name  review page  \\\n",
       "1           1     1   Le Noir Bar & Lounge          1.0   \n",
       "6           1     1   Le Noir Bar & Lounge          1.0   \n",
       "7           1     1   Le Noir Bar & Lounge          1.0   \n",
       "9           1     1   Le Noir Bar & Lounge          1.0   \n",
       "10          1     1   Le Noir Bar & Lounge          1.0   \n",
       "...       ...   ...                    ...          ...   \n",
       "16902      39     2                  Mitzo         11.0   \n",
       "16913      39     2                  Mitzo         12.0   \n",
       "16915      39     2                  Mitzo         12.0   \n",
       "16921      39     2                  Mitzo         13.0   \n",
       "16925      39     2                  Mitzo         13.0   \n",
       "\n",
       "                                                  review  rating  \\\n",
       "1      wonderful atmosphere small place excellent foo...       5   \n",
       "6      if looking venue iconic view singapore skyline...       5   \n",
       "7      stumbled across first night key spot clarke qu...       4   \n",
       "9      very nice place drink very good customer servi...       5   \n",
       "10     great position marina bay super people watchin...       5   \n",
       "...                                                  ...     ...   \n",
       "16902  this second visit mitzo while first visit exce...       2   \n",
       "16913  while location ambience something quite notewo...       1   \n",
       "16915  chanced upon restaurant i chose ala carte menu...       5   \n",
       "16921  my 2nd visit we like deco classy atmosphere go...       2   \n",
       "16925  we came nice meal reading reviews it restauran...       3   \n",
       "\n",
       "                    id  comment  helpful arriving time   review time flagged  \n",
       "1            Tufayelhu      162       47        Feb-20   1 week ago        N  \n",
       "6              Otium54       48       34        Jan-20  4 weeks ago        N  \n",
       "7          PrettyPacha       92       30        Feb-20  4 weeks ago        N  \n",
       "9           107xavierd        2        1        Jan-20     26-Jan-20       N  \n",
       "10            Dillybop      277      138        Jan-20     26-Jan-20       N  \n",
       "...                ...      ...      ...           ...           ...     ...  \n",
       "16902          romes88        5        3        Nov-19     22-Nov-19       N  \n",
       "16913  josephnguyen116        4        1        Oct-19     14-Nov-19       N  \n",
       "16915         yingshia        3        2        Nov-19      9-Nov-19       N  \n",
       "16921     Desmondcheng      262      131        Oct-19     26-Oct-19       N  \n",
       "16925   BurtMoustachio      106       17        Oct-19     20-Oct-19       N  \n",
       "\n",
       "[7975 rows x 12 columns]"
      ]
     },
     "execution_count": 20,
     "metadata": {},
     "output_type": "execute_result"
    }
   ],
   "source": [
    "non_fake_review_df = non_fake_review_df.filter(regex=(\"^[a-zA-Z]\"))\n",
    "non_fake_review_df.drop(['mnr', 'rl', 'rd', 'Maximum Content Similarity'], axis=1, inplace=True)\n",
    "non_fake_review_df"
   ]
  },
  {
   "cell_type": "code",
   "execution_count": 21,
   "metadata": {},
   "outputs": [],
   "source": [
    "non_fake_review_df.drop(['flagged'], axis=1, inplace=True)\n",
    "non_fake_review_df.to_csv('data/filtered_review.csv',index=False)"
   ]
  },
  {
   "cell_type": "code",
   "execution_count": null,
   "metadata": {},
   "outputs": [],
   "source": []
  }
 ],
 "metadata": {
  "kernelspec": {
   "display_name": "Python 3",
   "language": "python",
   "name": "python3"
  },
  "language_info": {
   "codemirror_mode": {
    "name": "ipython",
    "version": 3
   },
   "file_extension": ".py",
   "mimetype": "text/x-python",
   "name": "python",
   "nbconvert_exporter": "python",
   "pygments_lexer": "ipython3",
   "version": "3.6.10"
  }
 },
 "nbformat": 4,
 "nbformat_minor": 4
}
